{
 "cells": [
  {
   "cell_type": "markdown",
   "id": "37c8ed74",
   "metadata": {},
   "source": [
    "# Day 10 - Data Analysis with Pandas part 2\n",
    "In previous notebooks Day 8 Pandas part1, we covered the basic function like \n",
    "* loading dataset \n",
    "* viewing basic information \n",
    "* checking & handling null values\n",
    "<br>  Now today we will learn about \n",
    "* unique values\n",
    "* Grouping\n",
    "* combining by conditions\n",
    "* visualizations\n",
    "\n"
   ]
  },
  {
   "cell_type": "markdown",
   "id": "f0118514",
   "metadata": {},
   "source": [
    "## Doing some basics steps\n"
   ]
  },
  {
   "cell_type": "code",
   "execution_count": 33,
   "id": "274a32c8",
   "metadata": {},
   "outputs": [],
   "source": [
    "import pandas as pd \n",
    "from sklearn.preprocessing import LabelEncoder\n",
    "import matplotlib.pyplot as plt "
   ]
  },
  {
   "cell_type": "code",
   "execution_count": null,
   "id": "4a21b0bb",
   "metadata": {},
   "outputs": [],
   "source": [
    "# loading the dataset\n",
    "df=pd.read_csv('../Datasets/plant_growth_data.csv')"
   ]
  },
  {
   "cell_type": "code",
   "execution_count": null,
   "id": "b74c2514",
   "metadata": {},
   "outputs": [
    {
     "data": {
      "application/vnd.microsoft.datawrangler.viewer.v0+json": {
       "columns": [
        {
         "name": "index",
         "rawType": "int64",
         "type": "integer"
        },
        {
         "name": "Soil_Type",
         "rawType": "object",
         "type": "string"
        },
        {
         "name": "Sunlight_Hours",
         "rawType": "float64",
         "type": "float"
        },
        {
         "name": "Water_Frequency",
         "rawType": "object",
         "type": "string"
        },
        {
         "name": "Fertilizer_Type",
         "rawType": "object",
         "type": "string"
        },
        {
         "name": "Temperature",
         "rawType": "float64",
         "type": "float"
        },
        {
         "name": "Humidity",
         "rawType": "float64",
         "type": "float"
        },
        {
         "name": "Growth_Milestone",
         "rawType": "int64",
         "type": "integer"
        }
       ],
       "conversionMethod": "pd.DataFrame",
       "ref": "b457b96b-e068-408b-a7d9-d1ebccb3489e",
       "rows": [
        [
         "0",
         "loam",
         "5.192294089205035",
         "bi-weekly",
         "chemical",
         "31.71960241024412",
         "61.59186060848997",
         "0"
        ],
        [
         "1",
         "sandy",
         "4.033132702741614",
         "weekly",
         "organic",
         "28.91948412187396",
         "52.42227609891599",
         "1"
        ],
        [
         "2",
         "loam",
         "8.892768570729004",
         "bi-weekly",
         "none",
         "23.1790588882854",
         "44.66053858490323",
         "0"
        ],
        [
         "3",
         "loam",
         "8.241144063085702",
         "bi-weekly",
         "none",
         "18.46588640141692",
         "46.4332272684958",
         "0"
        ],
        [
         "4",
         "sandy",
         "8.374043008245923",
         "bi-weekly",
         "organic",
         "18.12874085342172",
         "63.62592280385192",
         "0"
        ]
       ],
       "shape": {
        "columns": 7,
        "rows": 5
       }
      },
      "text/html": [
       "<div>\n",
       "<style scoped>\n",
       "    .dataframe tbody tr th:only-of-type {\n",
       "        vertical-align: middle;\n",
       "    }\n",
       "\n",
       "    .dataframe tbody tr th {\n",
       "        vertical-align: top;\n",
       "    }\n",
       "\n",
       "    .dataframe thead th {\n",
       "        text-align: right;\n",
       "    }\n",
       "</style>\n",
       "<table border=\"1\" class=\"dataframe\">\n",
       "  <thead>\n",
       "    <tr style=\"text-align: right;\">\n",
       "      <th></th>\n",
       "      <th>Soil_Type</th>\n",
       "      <th>Sunlight_Hours</th>\n",
       "      <th>Water_Frequency</th>\n",
       "      <th>Fertilizer_Type</th>\n",
       "      <th>Temperature</th>\n",
       "      <th>Humidity</th>\n",
       "      <th>Growth_Milestone</th>\n",
       "    </tr>\n",
       "  </thead>\n",
       "  <tbody>\n",
       "    <tr>\n",
       "      <th>0</th>\n",
       "      <td>loam</td>\n",
       "      <td>5.192294</td>\n",
       "      <td>bi-weekly</td>\n",
       "      <td>chemical</td>\n",
       "      <td>31.719602</td>\n",
       "      <td>61.591861</td>\n",
       "      <td>0</td>\n",
       "    </tr>\n",
       "    <tr>\n",
       "      <th>1</th>\n",
       "      <td>sandy</td>\n",
       "      <td>4.033133</td>\n",
       "      <td>weekly</td>\n",
       "      <td>organic</td>\n",
       "      <td>28.919484</td>\n",
       "      <td>52.422276</td>\n",
       "      <td>1</td>\n",
       "    </tr>\n",
       "    <tr>\n",
       "      <th>2</th>\n",
       "      <td>loam</td>\n",
       "      <td>8.892769</td>\n",
       "      <td>bi-weekly</td>\n",
       "      <td>none</td>\n",
       "      <td>23.179059</td>\n",
       "      <td>44.660539</td>\n",
       "      <td>0</td>\n",
       "    </tr>\n",
       "    <tr>\n",
       "      <th>3</th>\n",
       "      <td>loam</td>\n",
       "      <td>8.241144</td>\n",
       "      <td>bi-weekly</td>\n",
       "      <td>none</td>\n",
       "      <td>18.465886</td>\n",
       "      <td>46.433227</td>\n",
       "      <td>0</td>\n",
       "    </tr>\n",
       "    <tr>\n",
       "      <th>4</th>\n",
       "      <td>sandy</td>\n",
       "      <td>8.374043</td>\n",
       "      <td>bi-weekly</td>\n",
       "      <td>organic</td>\n",
       "      <td>18.128741</td>\n",
       "      <td>63.625923</td>\n",
       "      <td>0</td>\n",
       "    </tr>\n",
       "  </tbody>\n",
       "</table>\n",
       "</div>"
      ],
      "text/plain": [
       "  Soil_Type  Sunlight_Hours Water_Frequency Fertilizer_Type  Temperature  \\\n",
       "0      loam        5.192294       bi-weekly        chemical    31.719602   \n",
       "1     sandy        4.033133          weekly         organic    28.919484   \n",
       "2      loam        8.892769       bi-weekly            none    23.179059   \n",
       "3      loam        8.241144       bi-weekly            none    18.465886   \n",
       "4     sandy        8.374043       bi-weekly         organic    18.128741   \n",
       "\n",
       "    Humidity  Growth_Milestone  \n",
       "0  61.591861                 0  \n",
       "1  52.422276                 1  \n",
       "2  44.660539                 0  \n",
       "3  46.433227                 0  \n",
       "4  63.625923                 0  "
      ]
     },
     "execution_count": 7,
     "metadata": {},
     "output_type": "execute_result"
    }
   ],
   "source": [
    "# to view firt few rows \n",
    "df.head()"
   ]
  },
  {
   "cell_type": "code",
   "execution_count": null,
   "id": "33a715c3",
   "metadata": {},
   "outputs": [
    {
     "name": "stdout",
     "output_type": "stream",
     "text": [
      "<class 'pandas.core.frame.DataFrame'>\n",
      "RangeIndex: 193 entries, 0 to 192\n",
      "Data columns (total 7 columns):\n",
      " #   Column            Non-Null Count  Dtype  \n",
      "---  ------            --------------  -----  \n",
      " 0   Soil_Type         193 non-null    object \n",
      " 1   Sunlight_Hours    193 non-null    float64\n",
      " 2   Water_Frequency   193 non-null    object \n",
      " 3   Fertilizer_Type   193 non-null    object \n",
      " 4   Temperature       193 non-null    float64\n",
      " 5   Humidity          193 non-null    float64\n",
      " 6   Growth_Milestone  193 non-null    int64  \n",
      "dtypes: float64(3), int64(1), object(3)\n",
      "memory usage: 10.7+ KB\n"
     ]
    }
   ],
   "source": [
    "# to get quick summary\n",
    "df.info()"
   ]
  },
  {
   "cell_type": "code",
   "execution_count": 9,
   "id": "657f50f5",
   "metadata": {},
   "outputs": [
    {
     "data": {
      "text/plain": [
       "Soil_Type           0\n",
       "Sunlight_Hours      0\n",
       "Water_Frequency     0\n",
       "Fertilizer_Type     0\n",
       "Temperature         0\n",
       "Humidity            0\n",
       "Growth_Milestone    0\n",
       "dtype: int64"
      ]
     },
     "execution_count": 9,
     "metadata": {},
     "output_type": "execute_result"
    }
   ],
   "source": [
    "# checking null values count \n",
    "df.isnull().sum()"
   ]
  },
  {
   "cell_type": "markdown",
   "id": "e4f56288",
   "metadata": {},
   "source": [
    "## unique values\n"
   ]
  },
  {
   "cell_type": "code",
   "execution_count": null,
   "id": "f129a234",
   "metadata": {},
   "outputs": [
    {
     "data": {
      "text/plain": [
       "Soil_Type             3\n",
       "Sunlight_Hours      190\n",
       "Water_Frequency       3\n",
       "Fertilizer_Type       3\n",
       "Temperature         189\n",
       "Humidity            191\n",
       "Growth_Milestone      2\n",
       "dtype: int64"
      ]
     },
     "execution_count": 10,
     "metadata": {},
     "output_type": "execute_result"
    }
   ],
   "source": [
    "df.nunique()  # count number of distinct values "
   ]
  },
  {
   "cell_type": "markdown",
   "id": "6853072e",
   "metadata": {},
   "source": [
    "## Grouping \n",
    "The groupby() function in Pandas is used to group a DataFrame by one or more columns and perform aggregation operations on the grouped data.\n",
    "<br>\n",
    "You can use various aggregation functions with groupby(), such as:\n",
    "\n",
    "- mean(): Calculate the mean.\n",
    "- sum(): Calculate the sum.\n",
    "- count(): Count the number of rows.\n",
    "- max(): Get the maximum value.\n",
    "- min(): Get the minimum value.\n"
   ]
  },
  {
   "cell_type": "code",
   "execution_count": 13,
   "id": "feae5bc2",
   "metadata": {},
   "outputs": [
    {
     "data": {
      "text/plain": [
       "Growth_Milestone\n",
       "0    7.020448\n",
       "1    6.630500\n",
       "Name: Sunlight_Hours, dtype: float64"
      ]
     },
     "execution_count": 13,
     "metadata": {},
     "output_type": "execute_result"
    }
   ],
   "source": [
    "df.groupby('Growth_Milestone')['Sunlight_Hours'].mean()"
   ]
  },
  {
   "cell_type": "markdown",
   "id": "63b9f544",
   "metadata": {},
   "source": [
    "## Handling Categoircal data\n",
    "as for above data we have <br>\n",
    " 0   Soil_Type         193 non-null    object  <br>\n",
    " 2   Water_Frequency   193 non-null    object   <br>\n",
    " 3   Fertilizer_Type   193 non-null    object    <br>   \n",
    "\n",
    " we can use methods like \n",
    " * use the **LabelEncoder** from **scikit-learn** to convert categorical data to numerical data:"
   ]
  },
  {
   "cell_type": "code",
   "execution_count": 17,
   "id": "d2eb3a02",
   "metadata": {},
   "outputs": [
    {
     "data": {
      "text/plain": [
       "array(['loam', 'sandy', 'clay'], dtype=object)"
      ]
     },
     "execution_count": 17,
     "metadata": {},
     "output_type": "execute_result"
    }
   ],
   "source": [
    "df['Soil_Type'].unique()"
   ]
  },
  {
   "cell_type": "code",
   "execution_count": 23,
   "id": "58b6de2c",
   "metadata": {},
   "outputs": [
    {
     "data": {
      "text/plain": [
       "array(['bi-weekly', 'weekly', 'daily'], dtype=object)"
      ]
     },
     "execution_count": 23,
     "metadata": {},
     "output_type": "execute_result"
    }
   ],
   "source": [
    "df['Water_Frequency'].unique()"
   ]
  },
  {
   "cell_type": "code",
   "execution_count": 25,
   "id": "17e7fc04",
   "metadata": {},
   "outputs": [
    {
     "data": {
      "text/plain": [
       "array(['chemical', 'organic', 'none'], dtype=object)"
      ]
     },
     "execution_count": 25,
     "metadata": {},
     "output_type": "execute_result"
    }
   ],
   "source": [
    "df['Fertilizer_Type'].unique()"
   ]
  },
  {
   "cell_type": "code",
   "execution_count": 27,
   "id": "29489166",
   "metadata": {},
   "outputs": [
    {
     "data": {
      "application/vnd.microsoft.datawrangler.viewer.v0+json": {
       "columns": [
        {
         "name": "index",
         "rawType": "int64",
         "type": "integer"
        },
        {
         "name": "Soil_Type",
         "rawType": "object",
         "type": "string"
        },
        {
         "name": "Sunlight_Hours",
         "rawType": "float64",
         "type": "float"
        },
        {
         "name": "Water_Frequency",
         "rawType": "object",
         "type": "string"
        },
        {
         "name": "Fertilizer_Type",
         "rawType": "object",
         "type": "string"
        },
        {
         "name": "Temperature",
         "rawType": "float64",
         "type": "float"
        },
        {
         "name": "Humidity",
         "rawType": "float64",
         "type": "float"
        },
        {
         "name": "Growth_Milestone",
         "rawType": "int64",
         "type": "integer"
        },
        {
         "name": "Soil_Type_Encoded",
         "rawType": "int32",
         "type": "integer"
        },
        {
         "name": "Water_Frequency_Encoded",
         "rawType": "int32",
         "type": "integer"
        },
        {
         "name": "Fertilizer_Type_Encoded",
         "rawType": "int32",
         "type": "integer"
        }
       ],
       "conversionMethod": "pd.DataFrame",
       "ref": "36fcbe12-b6d4-4487-9854-5015aa9363ff",
       "rows": [
        [
         "0",
         "loam",
         "5.192294089205035",
         "bi-weekly",
         "chemical",
         "31.71960241024412",
         "61.59186060848997",
         "0",
         "1",
         "0",
         "0"
        ],
        [
         "1",
         "sandy",
         "4.033132702741614",
         "weekly",
         "organic",
         "28.91948412187396",
         "52.42227609891599",
         "1",
         "2",
         "2",
         "2"
        ],
        [
         "2",
         "loam",
         "8.892768570729004",
         "bi-weekly",
         "none",
         "23.1790588882854",
         "44.66053858490323",
         "0",
         "1",
         "0",
         "1"
        ],
        [
         "3",
         "loam",
         "8.241144063085702",
         "bi-weekly",
         "none",
         "18.46588640141692",
         "46.4332272684958",
         "0",
         "1",
         "0",
         "1"
        ],
        [
         "4",
         "sandy",
         "8.374043008245923",
         "bi-weekly",
         "organic",
         "18.12874085342172",
         "63.62592280385192",
         "0",
         "2",
         "0",
         "2"
        ],
        [
         "5",
         "sandy",
         "8.627622080115675",
         "bi-weekly",
         "none",
         "20.004857963291904",
         "67.618726471884",
         "0",
         "2",
         "0",
         "1"
        ],
        [
         "6",
         "loam",
         "4.444267910404542",
         "daily",
         "organic",
         "25.984533294122407",
         "69.57895218629243",
         "1",
         "1",
         "1",
         "2"
        ],
        [
         "7",
         "clay",
         "6.150794371265635",
         "daily",
         "organic",
         "29.291918454001248",
         "69.48090713972769",
         "0",
         "0",
         "1",
         "2"
        ],
        [
         "8",
         "loam",
         "4.695214357150778",
         "bi-weekly",
         "none",
         "28.203947534354626",
         "34.56030515243452",
         "1",
         "1",
         "0",
         "1"
        ],
        [
         "9",
         "loam",
         "9.17862055525356",
         "weekly",
         "organic",
         "20.598677938918858",
         "54.72101523512907",
         "1",
         "1",
         "2",
         "2"
        ],
        [
         "10",
         "loam",
         "7.7397887609653475",
         "daily",
         "none",
         "34.097305613263885",
         "32.877938000832216",
         "0",
         "1",
         "1",
         "1"
        ],
        [
         "11",
         "loam",
         "5.985388149115895",
         "bi-weekly",
         "chemical",
         "29.75793833391537",
         "57.47644411618678",
         "0",
         "1",
         "0",
         "0"
        ],
        [
         "12",
         "sandy",
         "4.381350101716142",
         "daily",
         "organic",
         "26.08708105022801",
         "52.07652506866885",
         "1",
         "2",
         "1",
         "2"
        ],
        [
         "13",
         "loam",
         "5.865893930293973",
         "daily",
         "chemical",
         "27.234414924687044",
         "74.38520913791498",
         "1",
         "1",
         "1",
         "0"
        ],
        [
         "14",
         "clay",
         "5.951099932160482",
         "weekly",
         "none",
         "23.3920012485558",
         "47.54575062760394",
         "1",
         "0",
         "2",
         "1"
        ],
        [
         "15",
         "sandy",
         "8.377637070028385",
         "bi-weekly",
         "chemical",
         "19.95461979002315",
         "35.853350821380296",
         "1",
         "2",
         "0",
         "0"
        ],
        [
         "16",
         "clay",
         "7.8253448281312785",
         "bi-weekly",
         "chemical",
         "22.119453573025236",
         "37.1495841026418",
         "0",
         "0",
         "0",
         "0"
        ],
        [
         "17",
         "clay",
         "9.32327645545796",
         "weekly",
         "none",
         "30.15692220928738",
         "68.07553158587362",
         "0",
         "0",
         "2",
         "1"
        ],
        [
         "18",
         "clay",
         "6.833289550971696",
         "weekly",
         "chemical",
         "15.287869772595116",
         "60.91090316581305",
         "1",
         "0",
         "2",
         "0"
        ],
        [
         "19",
         "clay",
         "4.71756547562981",
         "bi-weekly",
         "chemical",
         "17.321452810138325",
         "35.05613380613951",
         "1",
         "0",
         "0",
         "0"
        ],
        [
         "20",
         "sandy",
         "8.27946872333797",
         "bi-weekly",
         "none",
         "15.920052840435057",
         "34.20534030574987",
         "0",
         "2",
         "0",
         "1"
        ],
        [
         "21",
         "sandy",
         "8.564710291701385",
         "weekly",
         "chemical",
         "15.814576046379402",
         "65.048456572956",
         "1",
         "2",
         "2",
         "0"
        ],
        [
         "22",
         "clay",
         "7.367663185416977",
         "daily",
         "none",
         "32.10921168022014",
         "33.638150318209675",
         "0",
         "0",
         "1",
         "1"
        ],
        [
         "23",
         "clay",
         "8.625803079727365",
         "daily",
         "chemical",
         "29.073157187600472",
         "71.09300296451781",
         "1",
         "0",
         "1",
         "0"
        ],
        [
         "24",
         "sandy",
         "6.9627735781863445",
         "weekly",
         "none",
         "24.483476581746505",
         "65.31211135782482",
         "1",
         "2",
         "2",
         "1"
        ],
        [
         "25",
         "sandy",
         "7.136396976291964",
         "daily",
         "none",
         "16.95668321302003",
         "34.06743903209499",
         "0",
         "2",
         "1",
         "1"
        ],
        [
         "26",
         "sandy",
         "6.565246110151298",
         "weekly",
         "chemical",
         "24.832317502336647",
         "34.241885704259595",
         "0",
         "2",
         "2",
         "0"
        ],
        [
         "27",
         "loam",
         "4.152514760464571",
         "daily",
         "chemical",
         "24.469435415611315",
         "79.33197892505876",
         "0",
         "1",
         "1",
         "0"
        ],
        [
         "28",
         "loam",
         "4.647348561959827",
         "daily",
         "chemical",
         "18.464037398200304",
         "48.71353978780601",
         "1",
         "1",
         "1",
         "0"
        ],
        [
         "29",
         "loam",
         "4.188575114120406",
         "bi-weekly",
         "organic",
         "23.67703298475946",
         "48.53210735334454",
         "1",
         "1",
         "0",
         "2"
        ],
        [
         "30",
         "clay",
         "7.818462467582682",
         "bi-weekly",
         "organic",
         "22.97009468794747",
         "70.63997836287513",
         "0",
         "0",
         "0",
         "2"
        ],
        [
         "31",
         "loam",
         "5.88613588645796",
         "daily",
         "organic",
         "27.31700196104433",
         "77.36242886919294",
         "0",
         "1",
         "1",
         "2"
        ],
        [
         "32",
         "clay",
         "7.051424146988216",
         "daily",
         "none",
         "27.701873017352877",
         "79.30005319114355",
         "0",
         "0",
         "1",
         "1"
        ],
        [
         "33",
         "clay",
         "9.445398843556555",
         "bi-weekly",
         "chemical",
         "15.90608019544089",
         "67.66890926294708",
         "0",
         "0",
         "0",
         "0"
        ],
        [
         "34",
         "loam",
         "5.495753374893249",
         "bi-weekly",
         "none",
         "22.492252292529425",
         "48.81297927654579",
         "1",
         "1",
         "0",
         "1"
        ],
        [
         "35",
         "clay",
         "6.462297538213779",
         "bi-weekly",
         "organic",
         "27.517198314284727",
         "34.17503583493344",
         "1",
         "0",
         "0",
         "2"
        ],
        [
         "36",
         "loam",
         "8.533306831258292",
         "weekly",
         "chemical",
         "25.062725171601755",
         "68.85734579637185",
         "0",
         "1",
         "2",
         "0"
        ],
        [
         "37",
         "loam",
         "5.372788992949735",
         "daily",
         "none",
         "32.12979682376644",
         "57.92021248679025",
         "1",
         "1",
         "1",
         "1"
        ],
        [
         "38",
         "sandy",
         "4.461879458972758",
         "bi-weekly",
         "chemical",
         "28.173872632378902",
         "51.21110046234881",
         "0",
         "2",
         "0",
         "0"
        ],
        [
         "39",
         "loam",
         "5.738508717482608",
         "daily",
         "none",
         "18.258688541628597",
         "75.3177192547368",
         "1",
         "1",
         "1",
         "1"
        ],
        [
         "40",
         "sandy",
         "4.9673277235240265",
         "weekly",
         "chemical",
         "16.411374948008596",
         "35.559874115307565",
         "1",
         "2",
         "2",
         "0"
        ],
        [
         "41",
         "loam",
         "9.57818591405544",
         "weekly",
         "organic",
         "27.84838556412631",
         "54.63125521454296",
         "1",
         "1",
         "2",
         "2"
        ],
        [
         "42",
         "loam",
         "8.848722277386502",
         "bi-weekly",
         "organic",
         "15.530226210832437",
         "30.567682238370956",
         "1",
         "1",
         "0",
         "2"
        ],
        [
         "43",
         "sandy",
         "7.800422539062541",
         "weekly",
         "chemical",
         "26.715511625469265",
         "53.43303209970631",
         "1",
         "2",
         "2",
         "0"
        ],
        [
         "44",
         "sandy",
         "9.228763541126304",
         "daily",
         "none",
         "33.80460482849915",
         "32.815163784091865",
         "0",
         "2",
         "1",
         "1"
        ],
        [
         "45",
         "loam",
         "8.822032461394688",
         "bi-weekly",
         "organic",
         "26.50948355751758",
         "35.9408958134036",
         "1",
         "1",
         "0",
         "2"
        ],
        [
         "46",
         "clay",
         "5.119420353316215",
         "daily",
         "organic",
         "22.76339852413044",
         "35.87631233885524",
         "1",
         "0",
         "1",
         "2"
        ],
        [
         "47",
         "sandy",
         "9.355353990939866",
         "daily",
         "organic",
         "27.865764368847064",
         "62.460515105803175",
         "1",
         "2",
         "1",
         "2"
        ],
        [
         "48",
         "clay",
         "7.236053451493904",
         "weekly",
         "chemical",
         "24.165057809830333",
         "67.30224396327117",
         "0",
         "0",
         "2",
         "0"
        ],
        [
         "49",
         "clay",
         "8.844640930984376",
         "weekly",
         "chemical",
         "25.9123357863187",
         "59.16843825485798",
         "0",
         "0",
         "2",
         "0"
        ]
       ],
       "shape": {
        "columns": 10,
        "rows": 193
       }
      },
      "text/html": [
       "<div>\n",
       "<style scoped>\n",
       "    .dataframe tbody tr th:only-of-type {\n",
       "        vertical-align: middle;\n",
       "    }\n",
       "\n",
       "    .dataframe tbody tr th {\n",
       "        vertical-align: top;\n",
       "    }\n",
       "\n",
       "    .dataframe thead th {\n",
       "        text-align: right;\n",
       "    }\n",
       "</style>\n",
       "<table border=\"1\" class=\"dataframe\">\n",
       "  <thead>\n",
       "    <tr style=\"text-align: right;\">\n",
       "      <th></th>\n",
       "      <th>Soil_Type</th>\n",
       "      <th>Sunlight_Hours</th>\n",
       "      <th>Water_Frequency</th>\n",
       "      <th>Fertilizer_Type</th>\n",
       "      <th>Temperature</th>\n",
       "      <th>Humidity</th>\n",
       "      <th>Growth_Milestone</th>\n",
       "      <th>Soil_Type_Encoded</th>\n",
       "      <th>Water_Frequency_Encoded</th>\n",
       "      <th>Fertilizer_Type_Encoded</th>\n",
       "    </tr>\n",
       "  </thead>\n",
       "  <tbody>\n",
       "    <tr>\n",
       "      <th>0</th>\n",
       "      <td>loam</td>\n",
       "      <td>5.192294</td>\n",
       "      <td>bi-weekly</td>\n",
       "      <td>chemical</td>\n",
       "      <td>31.719602</td>\n",
       "      <td>61.591861</td>\n",
       "      <td>0</td>\n",
       "      <td>1</td>\n",
       "      <td>0</td>\n",
       "      <td>0</td>\n",
       "    </tr>\n",
       "    <tr>\n",
       "      <th>1</th>\n",
       "      <td>sandy</td>\n",
       "      <td>4.033133</td>\n",
       "      <td>weekly</td>\n",
       "      <td>organic</td>\n",
       "      <td>28.919484</td>\n",
       "      <td>52.422276</td>\n",
       "      <td>1</td>\n",
       "      <td>2</td>\n",
       "      <td>2</td>\n",
       "      <td>2</td>\n",
       "    </tr>\n",
       "    <tr>\n",
       "      <th>2</th>\n",
       "      <td>loam</td>\n",
       "      <td>8.892769</td>\n",
       "      <td>bi-weekly</td>\n",
       "      <td>none</td>\n",
       "      <td>23.179059</td>\n",
       "      <td>44.660539</td>\n",
       "      <td>0</td>\n",
       "      <td>1</td>\n",
       "      <td>0</td>\n",
       "      <td>1</td>\n",
       "    </tr>\n",
       "    <tr>\n",
       "      <th>3</th>\n",
       "      <td>loam</td>\n",
       "      <td>8.241144</td>\n",
       "      <td>bi-weekly</td>\n",
       "      <td>none</td>\n",
       "      <td>18.465886</td>\n",
       "      <td>46.433227</td>\n",
       "      <td>0</td>\n",
       "      <td>1</td>\n",
       "      <td>0</td>\n",
       "      <td>1</td>\n",
       "    </tr>\n",
       "    <tr>\n",
       "      <th>4</th>\n",
       "      <td>sandy</td>\n",
       "      <td>8.374043</td>\n",
       "      <td>bi-weekly</td>\n",
       "      <td>organic</td>\n",
       "      <td>18.128741</td>\n",
       "      <td>63.625923</td>\n",
       "      <td>0</td>\n",
       "      <td>2</td>\n",
       "      <td>0</td>\n",
       "      <td>2</td>\n",
       "    </tr>\n",
       "    <tr>\n",
       "      <th>...</th>\n",
       "      <td>...</td>\n",
       "      <td>...</td>\n",
       "      <td>...</td>\n",
       "      <td>...</td>\n",
       "      <td>...</td>\n",
       "      <td>...</td>\n",
       "      <td>...</td>\n",
       "      <td>...</td>\n",
       "      <td>...</td>\n",
       "      <td>...</td>\n",
       "    </tr>\n",
       "    <tr>\n",
       "      <th>188</th>\n",
       "      <td>sandy</td>\n",
       "      <td>5.652000</td>\n",
       "      <td>daily</td>\n",
       "      <td>none</td>\n",
       "      <td>28.000000</td>\n",
       "      <td>70.200000</td>\n",
       "      <td>0</td>\n",
       "      <td>2</td>\n",
       "      <td>1</td>\n",
       "      <td>1</td>\n",
       "    </tr>\n",
       "    <tr>\n",
       "      <th>189</th>\n",
       "      <td>clay</td>\n",
       "      <td>7.528000</td>\n",
       "      <td>weekly</td>\n",
       "      <td>chemical</td>\n",
       "      <td>30.500000</td>\n",
       "      <td>60.100000</td>\n",
       "      <td>1</td>\n",
       "      <td>0</td>\n",
       "      <td>2</td>\n",
       "      <td>0</td>\n",
       "    </tr>\n",
       "    <tr>\n",
       "      <th>190</th>\n",
       "      <td>loam</td>\n",
       "      <td>4.934000</td>\n",
       "      <td>bi-weekly</td>\n",
       "      <td>none</td>\n",
       "      <td>24.500000</td>\n",
       "      <td>61.700000</td>\n",
       "      <td>0</td>\n",
       "      <td>1</td>\n",
       "      <td>0</td>\n",
       "      <td>1</td>\n",
       "    </tr>\n",
       "    <tr>\n",
       "      <th>191</th>\n",
       "      <td>sandy</td>\n",
       "      <td>8.273000</td>\n",
       "      <td>daily</td>\n",
       "      <td>organic</td>\n",
       "      <td>27.900000</td>\n",
       "      <td>69.500000</td>\n",
       "      <td>1</td>\n",
       "      <td>2</td>\n",
       "      <td>1</td>\n",
       "      <td>2</td>\n",
       "    </tr>\n",
       "    <tr>\n",
       "      <th>192</th>\n",
       "      <td>clay</td>\n",
       "      <td>6.732000</td>\n",
       "      <td>weekly</td>\n",
       "      <td>none</td>\n",
       "      <td>21.700000</td>\n",
       "      <td>56.900000</td>\n",
       "      <td>0</td>\n",
       "      <td>0</td>\n",
       "      <td>2</td>\n",
       "      <td>1</td>\n",
       "    </tr>\n",
       "  </tbody>\n",
       "</table>\n",
       "<p>193 rows × 10 columns</p>\n",
       "</div>"
      ],
      "text/plain": [
       "    Soil_Type  Sunlight_Hours Water_Frequency Fertilizer_Type  Temperature  \\\n",
       "0        loam        5.192294       bi-weekly        chemical    31.719602   \n",
       "1       sandy        4.033133          weekly         organic    28.919484   \n",
       "2        loam        8.892769       bi-weekly            none    23.179059   \n",
       "3        loam        8.241144       bi-weekly            none    18.465886   \n",
       "4       sandy        8.374043       bi-weekly         organic    18.128741   \n",
       "..        ...             ...             ...             ...          ...   \n",
       "188     sandy        5.652000           daily            none    28.000000   \n",
       "189      clay        7.528000          weekly        chemical    30.500000   \n",
       "190      loam        4.934000       bi-weekly            none    24.500000   \n",
       "191     sandy        8.273000           daily         organic    27.900000   \n",
       "192      clay        6.732000          weekly            none    21.700000   \n",
       "\n",
       "      Humidity  Growth_Milestone  Soil_Type_Encoded  Water_Frequency_Encoded  \\\n",
       "0    61.591861                 0                  1                        0   \n",
       "1    52.422276                 1                  2                        2   \n",
       "2    44.660539                 0                  1                        0   \n",
       "3    46.433227                 0                  1                        0   \n",
       "4    63.625923                 0                  2                        0   \n",
       "..         ...               ...                ...                      ...   \n",
       "188  70.200000                 0                  2                        1   \n",
       "189  60.100000                 1                  0                        2   \n",
       "190  61.700000                 0                  1                        0   \n",
       "191  69.500000                 1                  2                        1   \n",
       "192  56.900000                 0                  0                        2   \n",
       "\n",
       "     Fertilizer_Type_Encoded  \n",
       "0                          0  \n",
       "1                          2  \n",
       "2                          1  \n",
       "3                          1  \n",
       "4                          2  \n",
       "..                       ...  \n",
       "188                        1  \n",
       "189                        0  \n",
       "190                        1  \n",
       "191                        2  \n",
       "192                        1  \n",
       "\n",
       "[193 rows x 10 columns]"
      ]
     },
     "execution_count": 27,
     "metadata": {},
     "output_type": "execute_result"
    }
   ],
   "source": [
    "# using label encoder\n",
    "lc = LabelEncoder()\n",
    "soil_type = lc.fit_transform(df['Soil_Type']) \n",
    "water_frequency = lc.fit_transform(df['Water_Frequency'])\n",
    "fertizler_type = lc.fit_transform(df['Fertilizer_Type'])\n",
    "df['Soil_Type_Encoded'] = soil_type\n",
    "df['Water_Frequency_Encoded'] = water_frequency\n",
    "df['Fertilizer_Type_Encoded'] = fertizler_type\n",
    "\n",
    "\n",
    "df"
   ]
  },
  {
   "cell_type": "code",
   "execution_count": null,
   "id": "aea4e5df",
   "metadata": {},
   "outputs": [],
   "source": [
    "#droping previous numerical coloumn \n",
    "df.drop(['Soil_Type','Water_Frequency','Fertilizer_Type'],axis=1,inplace=True)"
   ]
  },
  {
   "cell_type": "code",
   "execution_count": 31,
   "id": "48210f4c",
   "metadata": {},
   "outputs": [
    {
     "data": {
      "application/vnd.microsoft.datawrangler.viewer.v0+json": {
       "columns": [
        {
         "name": "index",
         "rawType": "int64",
         "type": "integer"
        },
        {
         "name": "Sunlight_Hours",
         "rawType": "float64",
         "type": "float"
        },
        {
         "name": "Temperature",
         "rawType": "float64",
         "type": "float"
        },
        {
         "name": "Humidity",
         "rawType": "float64",
         "type": "float"
        },
        {
         "name": "Growth_Milestone",
         "rawType": "int64",
         "type": "integer"
        },
        {
         "name": "Soil_Type_Encoded",
         "rawType": "int32",
         "type": "integer"
        },
        {
         "name": "Water_Frequency_Encoded",
         "rawType": "int32",
         "type": "integer"
        },
        {
         "name": "Fertilizer_Type_Encoded",
         "rawType": "int32",
         "type": "integer"
        }
       ],
       "conversionMethod": "pd.DataFrame",
       "ref": "24de916c-0578-4c8d-bba7-a74b231921c8",
       "rows": [
        [
         "0",
         "5.192294089205035",
         "31.71960241024412",
         "61.59186060848997",
         "0",
         "1",
         "0",
         "0"
        ],
        [
         "1",
         "4.033132702741614",
         "28.91948412187396",
         "52.42227609891599",
         "1",
         "2",
         "2",
         "2"
        ],
        [
         "2",
         "8.892768570729004",
         "23.1790588882854",
         "44.66053858490323",
         "0",
         "1",
         "0",
         "1"
        ],
        [
         "3",
         "8.241144063085702",
         "18.46588640141692",
         "46.4332272684958",
         "0",
         "1",
         "0",
         "1"
        ],
        [
         "4",
         "8.374043008245923",
         "18.12874085342172",
         "63.62592280385192",
         "0",
         "2",
         "0",
         "2"
        ],
        [
         "5",
         "8.627622080115675",
         "20.004857963291904",
         "67.618726471884",
         "0",
         "2",
         "0",
         "1"
        ],
        [
         "6",
         "4.444267910404542",
         "25.984533294122407",
         "69.57895218629243",
         "1",
         "1",
         "1",
         "2"
        ],
        [
         "7",
         "6.150794371265635",
         "29.291918454001248",
         "69.48090713972769",
         "0",
         "0",
         "1",
         "2"
        ],
        [
         "8",
         "4.695214357150778",
         "28.203947534354626",
         "34.56030515243452",
         "1",
         "1",
         "0",
         "1"
        ],
        [
         "9",
         "9.17862055525356",
         "20.598677938918858",
         "54.72101523512907",
         "1",
         "1",
         "2",
         "2"
        ],
        [
         "10",
         "7.7397887609653475",
         "34.097305613263885",
         "32.877938000832216",
         "0",
         "1",
         "1",
         "1"
        ],
        [
         "11",
         "5.985388149115895",
         "29.75793833391537",
         "57.47644411618678",
         "0",
         "1",
         "0",
         "0"
        ],
        [
         "12",
         "4.381350101716142",
         "26.08708105022801",
         "52.07652506866885",
         "1",
         "2",
         "1",
         "2"
        ],
        [
         "13",
         "5.865893930293973",
         "27.234414924687044",
         "74.38520913791498",
         "1",
         "1",
         "1",
         "0"
        ],
        [
         "14",
         "5.951099932160482",
         "23.3920012485558",
         "47.54575062760394",
         "1",
         "0",
         "2",
         "1"
        ],
        [
         "15",
         "8.377637070028385",
         "19.95461979002315",
         "35.853350821380296",
         "1",
         "2",
         "0",
         "0"
        ],
        [
         "16",
         "7.8253448281312785",
         "22.119453573025236",
         "37.1495841026418",
         "0",
         "0",
         "0",
         "0"
        ],
        [
         "17",
         "9.32327645545796",
         "30.15692220928738",
         "68.07553158587362",
         "0",
         "0",
         "2",
         "1"
        ],
        [
         "18",
         "6.833289550971696",
         "15.287869772595116",
         "60.91090316581305",
         "1",
         "0",
         "2",
         "0"
        ],
        [
         "19",
         "4.71756547562981",
         "17.321452810138325",
         "35.05613380613951",
         "1",
         "0",
         "0",
         "0"
        ],
        [
         "20",
         "8.27946872333797",
         "15.920052840435057",
         "34.20534030574987",
         "0",
         "2",
         "0",
         "1"
        ],
        [
         "21",
         "8.564710291701385",
         "15.814576046379402",
         "65.048456572956",
         "1",
         "2",
         "2",
         "0"
        ],
        [
         "22",
         "7.367663185416977",
         "32.10921168022014",
         "33.638150318209675",
         "0",
         "0",
         "1",
         "1"
        ],
        [
         "23",
         "8.625803079727365",
         "29.073157187600472",
         "71.09300296451781",
         "1",
         "0",
         "1",
         "0"
        ],
        [
         "24",
         "6.9627735781863445",
         "24.483476581746505",
         "65.31211135782482",
         "1",
         "2",
         "2",
         "1"
        ],
        [
         "25",
         "7.136396976291964",
         "16.95668321302003",
         "34.06743903209499",
         "0",
         "2",
         "1",
         "1"
        ],
        [
         "26",
         "6.565246110151298",
         "24.832317502336647",
         "34.241885704259595",
         "0",
         "2",
         "2",
         "0"
        ],
        [
         "27",
         "4.152514760464571",
         "24.469435415611315",
         "79.33197892505876",
         "0",
         "1",
         "1",
         "0"
        ],
        [
         "28",
         "4.647348561959827",
         "18.464037398200304",
         "48.71353978780601",
         "1",
         "1",
         "1",
         "0"
        ],
        [
         "29",
         "4.188575114120406",
         "23.67703298475946",
         "48.53210735334454",
         "1",
         "1",
         "0",
         "2"
        ],
        [
         "30",
         "7.818462467582682",
         "22.97009468794747",
         "70.63997836287513",
         "0",
         "0",
         "0",
         "2"
        ],
        [
         "31",
         "5.88613588645796",
         "27.31700196104433",
         "77.36242886919294",
         "0",
         "1",
         "1",
         "2"
        ],
        [
         "32",
         "7.051424146988216",
         "27.701873017352877",
         "79.30005319114355",
         "0",
         "0",
         "1",
         "1"
        ],
        [
         "33",
         "9.445398843556555",
         "15.90608019544089",
         "67.66890926294708",
         "0",
         "0",
         "0",
         "0"
        ],
        [
         "34",
         "5.495753374893249",
         "22.492252292529425",
         "48.81297927654579",
         "1",
         "1",
         "0",
         "1"
        ],
        [
         "35",
         "6.462297538213779",
         "27.517198314284727",
         "34.17503583493344",
         "1",
         "0",
         "0",
         "2"
        ],
        [
         "36",
         "8.533306831258292",
         "25.062725171601755",
         "68.85734579637185",
         "0",
         "1",
         "2",
         "0"
        ],
        [
         "37",
         "5.372788992949735",
         "32.12979682376644",
         "57.92021248679025",
         "1",
         "1",
         "1",
         "1"
        ],
        [
         "38",
         "4.461879458972758",
         "28.173872632378902",
         "51.21110046234881",
         "0",
         "2",
         "0",
         "0"
        ],
        [
         "39",
         "5.738508717482608",
         "18.258688541628597",
         "75.3177192547368",
         "1",
         "1",
         "1",
         "1"
        ],
        [
         "40",
         "4.9673277235240265",
         "16.411374948008596",
         "35.559874115307565",
         "1",
         "2",
         "2",
         "0"
        ],
        [
         "41",
         "9.57818591405544",
         "27.84838556412631",
         "54.63125521454296",
         "1",
         "1",
         "2",
         "2"
        ],
        [
         "42",
         "8.848722277386502",
         "15.530226210832437",
         "30.567682238370956",
         "1",
         "1",
         "0",
         "2"
        ],
        [
         "43",
         "7.800422539062541",
         "26.715511625469265",
         "53.43303209970631",
         "1",
         "2",
         "2",
         "0"
        ],
        [
         "44",
         "9.228763541126304",
         "33.80460482849915",
         "32.815163784091865",
         "0",
         "2",
         "1",
         "1"
        ],
        [
         "45",
         "8.822032461394688",
         "26.50948355751758",
         "35.9408958134036",
         "1",
         "1",
         "0",
         "2"
        ],
        [
         "46",
         "5.119420353316215",
         "22.76339852413044",
         "35.87631233885524",
         "1",
         "0",
         "1",
         "2"
        ],
        [
         "47",
         "9.355353990939866",
         "27.865764368847064",
         "62.460515105803175",
         "1",
         "2",
         "1",
         "2"
        ],
        [
         "48",
         "7.236053451493904",
         "24.165057809830333",
         "67.30224396327117",
         "0",
         "0",
         "2",
         "0"
        ],
        [
         "49",
         "8.844640930984376",
         "25.9123357863187",
         "59.16843825485798",
         "0",
         "0",
         "2",
         "0"
        ]
       ],
       "shape": {
        "columns": 7,
        "rows": 193
       }
      },
      "text/html": [
       "<div>\n",
       "<style scoped>\n",
       "    .dataframe tbody tr th:only-of-type {\n",
       "        vertical-align: middle;\n",
       "    }\n",
       "\n",
       "    .dataframe tbody tr th {\n",
       "        vertical-align: top;\n",
       "    }\n",
       "\n",
       "    .dataframe thead th {\n",
       "        text-align: right;\n",
       "    }\n",
       "</style>\n",
       "<table border=\"1\" class=\"dataframe\">\n",
       "  <thead>\n",
       "    <tr style=\"text-align: right;\">\n",
       "      <th></th>\n",
       "      <th>Sunlight_Hours</th>\n",
       "      <th>Temperature</th>\n",
       "      <th>Humidity</th>\n",
       "      <th>Growth_Milestone</th>\n",
       "      <th>Soil_Type_Encoded</th>\n",
       "      <th>Water_Frequency_Encoded</th>\n",
       "      <th>Fertilizer_Type_Encoded</th>\n",
       "    </tr>\n",
       "  </thead>\n",
       "  <tbody>\n",
       "    <tr>\n",
       "      <th>0</th>\n",
       "      <td>5.192294</td>\n",
       "      <td>31.719602</td>\n",
       "      <td>61.591861</td>\n",
       "      <td>0</td>\n",
       "      <td>1</td>\n",
       "      <td>0</td>\n",
       "      <td>0</td>\n",
       "    </tr>\n",
       "    <tr>\n",
       "      <th>1</th>\n",
       "      <td>4.033133</td>\n",
       "      <td>28.919484</td>\n",
       "      <td>52.422276</td>\n",
       "      <td>1</td>\n",
       "      <td>2</td>\n",
       "      <td>2</td>\n",
       "      <td>2</td>\n",
       "    </tr>\n",
       "    <tr>\n",
       "      <th>2</th>\n",
       "      <td>8.892769</td>\n",
       "      <td>23.179059</td>\n",
       "      <td>44.660539</td>\n",
       "      <td>0</td>\n",
       "      <td>1</td>\n",
       "      <td>0</td>\n",
       "      <td>1</td>\n",
       "    </tr>\n",
       "    <tr>\n",
       "      <th>3</th>\n",
       "      <td>8.241144</td>\n",
       "      <td>18.465886</td>\n",
       "      <td>46.433227</td>\n",
       "      <td>0</td>\n",
       "      <td>1</td>\n",
       "      <td>0</td>\n",
       "      <td>1</td>\n",
       "    </tr>\n",
       "    <tr>\n",
       "      <th>4</th>\n",
       "      <td>8.374043</td>\n",
       "      <td>18.128741</td>\n",
       "      <td>63.625923</td>\n",
       "      <td>0</td>\n",
       "      <td>2</td>\n",
       "      <td>0</td>\n",
       "      <td>2</td>\n",
       "    </tr>\n",
       "    <tr>\n",
       "      <th>...</th>\n",
       "      <td>...</td>\n",
       "      <td>...</td>\n",
       "      <td>...</td>\n",
       "      <td>...</td>\n",
       "      <td>...</td>\n",
       "      <td>...</td>\n",
       "      <td>...</td>\n",
       "    </tr>\n",
       "    <tr>\n",
       "      <th>188</th>\n",
       "      <td>5.652000</td>\n",
       "      <td>28.000000</td>\n",
       "      <td>70.200000</td>\n",
       "      <td>0</td>\n",
       "      <td>2</td>\n",
       "      <td>1</td>\n",
       "      <td>1</td>\n",
       "    </tr>\n",
       "    <tr>\n",
       "      <th>189</th>\n",
       "      <td>7.528000</td>\n",
       "      <td>30.500000</td>\n",
       "      <td>60.100000</td>\n",
       "      <td>1</td>\n",
       "      <td>0</td>\n",
       "      <td>2</td>\n",
       "      <td>0</td>\n",
       "    </tr>\n",
       "    <tr>\n",
       "      <th>190</th>\n",
       "      <td>4.934000</td>\n",
       "      <td>24.500000</td>\n",
       "      <td>61.700000</td>\n",
       "      <td>0</td>\n",
       "      <td>1</td>\n",
       "      <td>0</td>\n",
       "      <td>1</td>\n",
       "    </tr>\n",
       "    <tr>\n",
       "      <th>191</th>\n",
       "      <td>8.273000</td>\n",
       "      <td>27.900000</td>\n",
       "      <td>69.500000</td>\n",
       "      <td>1</td>\n",
       "      <td>2</td>\n",
       "      <td>1</td>\n",
       "      <td>2</td>\n",
       "    </tr>\n",
       "    <tr>\n",
       "      <th>192</th>\n",
       "      <td>6.732000</td>\n",
       "      <td>21.700000</td>\n",
       "      <td>56.900000</td>\n",
       "      <td>0</td>\n",
       "      <td>0</td>\n",
       "      <td>2</td>\n",
       "      <td>1</td>\n",
       "    </tr>\n",
       "  </tbody>\n",
       "</table>\n",
       "<p>193 rows × 7 columns</p>\n",
       "</div>"
      ],
      "text/plain": [
       "     Sunlight_Hours  Temperature   Humidity  Growth_Milestone  \\\n",
       "0          5.192294    31.719602  61.591861                 0   \n",
       "1          4.033133    28.919484  52.422276                 1   \n",
       "2          8.892769    23.179059  44.660539                 0   \n",
       "3          8.241144    18.465886  46.433227                 0   \n",
       "4          8.374043    18.128741  63.625923                 0   \n",
       "..              ...          ...        ...               ...   \n",
       "188        5.652000    28.000000  70.200000                 0   \n",
       "189        7.528000    30.500000  60.100000                 1   \n",
       "190        4.934000    24.500000  61.700000                 0   \n",
       "191        8.273000    27.900000  69.500000                 1   \n",
       "192        6.732000    21.700000  56.900000                 0   \n",
       "\n",
       "     Soil_Type_Encoded  Water_Frequency_Encoded  Fertilizer_Type_Encoded  \n",
       "0                    1                        0                        0  \n",
       "1                    2                        2                        2  \n",
       "2                    1                        0                        1  \n",
       "3                    1                        0                        1  \n",
       "4                    2                        0                        2  \n",
       "..                 ...                      ...                      ...  \n",
       "188                  2                        1                        1  \n",
       "189                  0                        2                        0  \n",
       "190                  1                        0                        1  \n",
       "191                  2                        1                        2  \n",
       "192                  0                        2                        1  \n",
       "\n",
       "[193 rows x 7 columns]"
      ]
     },
     "execution_count": 31,
     "metadata": {},
     "output_type": "execute_result"
    }
   ],
   "source": [
    "df"
   ]
  },
  {
   "cell_type": "markdown",
   "id": "f43633e9",
   "metadata": {},
   "source": [
    "## Correlation\n",
    "1. df.corr(): Calculate the correlation between columns in a DataFrame.\n"
   ]
  },
  {
   "cell_type": "code",
   "execution_count": 32,
   "id": "27fd5419",
   "metadata": {},
   "outputs": [
    {
     "data": {
      "application/vnd.microsoft.datawrangler.viewer.v0+json": {
       "columns": [
        {
         "name": "index",
         "rawType": "object",
         "type": "string"
        },
        {
         "name": "Sunlight_Hours",
         "rawType": "float64",
         "type": "float"
        },
        {
         "name": "Temperature",
         "rawType": "float64",
         "type": "float"
        },
        {
         "name": "Humidity",
         "rawType": "float64",
         "type": "float"
        },
        {
         "name": "Growth_Milestone",
         "rawType": "float64",
         "type": "float"
        },
        {
         "name": "Soil_Type_Encoded",
         "rawType": "float64",
         "type": "float"
        },
        {
         "name": "Water_Frequency_Encoded",
         "rawType": "float64",
         "type": "float"
        },
        {
         "name": "Fertilizer_Type_Encoded",
         "rawType": "float64",
         "type": "float"
        }
       ],
       "conversionMethod": "pd.DataFrame",
       "ref": "c162e7b4-6e6e-4e3d-ad80-9f2c8df65dc0",
       "rows": [
        [
         "Sunlight_Hours",
         "1.0",
         "-0.10062817733107528",
         "-0.05248152585218529",
         "-0.12221181644826044",
         "-0.1340884383132128",
         "0.11783878968563115",
         "0.04637758801788902"
        ],
        [
         "Temperature",
         "-0.10062817733107528",
         "1.0",
         "0.11764833948291617",
         "-0.053576516410817454",
         "-0.01312766979091704",
         "-0.015786205560001407",
         "0.14144749309343171"
        ],
        [
         "Humidity",
         "-0.05248152585218529",
         "0.11764833948291617",
         "1.0",
         "-0.13032790825965096",
         "-0.031696411604549564",
         "0.09356351707886383",
         "0.04298258317645018"
        ],
        [
         "Growth_Milestone",
         "-0.12221181644826044",
         "-0.053576516410817454",
         "-0.13032790825965096",
         "1.0",
         "0.031353541429050176",
         "0.006564581872326143",
         "0.0988641166967471"
        ],
        [
         "Soil_Type_Encoded",
         "-0.1340884383132128",
         "-0.01312766979091704",
         "-0.031696411604549564",
         "0.031353541429050176",
         "1.0",
         "-0.08824367559122048",
         "-0.009405163772526459"
        ],
        [
         "Water_Frequency_Encoded",
         "0.11783878968563115",
         "-0.015786205560001407",
         "0.09356351707886383",
         "0.006564581872326143",
         "-0.08824367559122048",
         "1.0",
         "0.0669259259226491"
        ],
        [
         "Fertilizer_Type_Encoded",
         "0.04637758801788902",
         "0.14144749309343171",
         "0.04298258317645018",
         "0.0988641166967471",
         "-0.009405163772526459",
         "0.0669259259226491",
         "1.0"
        ]
       ],
       "shape": {
        "columns": 7,
        "rows": 7
       }
      },
      "text/html": [
       "<div>\n",
       "<style scoped>\n",
       "    .dataframe tbody tr th:only-of-type {\n",
       "        vertical-align: middle;\n",
       "    }\n",
       "\n",
       "    .dataframe tbody tr th {\n",
       "        vertical-align: top;\n",
       "    }\n",
       "\n",
       "    .dataframe thead th {\n",
       "        text-align: right;\n",
       "    }\n",
       "</style>\n",
       "<table border=\"1\" class=\"dataframe\">\n",
       "  <thead>\n",
       "    <tr style=\"text-align: right;\">\n",
       "      <th></th>\n",
       "      <th>Sunlight_Hours</th>\n",
       "      <th>Temperature</th>\n",
       "      <th>Humidity</th>\n",
       "      <th>Growth_Milestone</th>\n",
       "      <th>Soil_Type_Encoded</th>\n",
       "      <th>Water_Frequency_Encoded</th>\n",
       "      <th>Fertilizer_Type_Encoded</th>\n",
       "    </tr>\n",
       "  </thead>\n",
       "  <tbody>\n",
       "    <tr>\n",
       "      <th>Sunlight_Hours</th>\n",
       "      <td>1.000000</td>\n",
       "      <td>-0.100628</td>\n",
       "      <td>-0.052482</td>\n",
       "      <td>-0.122212</td>\n",
       "      <td>-0.134088</td>\n",
       "      <td>0.117839</td>\n",
       "      <td>0.046378</td>\n",
       "    </tr>\n",
       "    <tr>\n",
       "      <th>Temperature</th>\n",
       "      <td>-0.100628</td>\n",
       "      <td>1.000000</td>\n",
       "      <td>0.117648</td>\n",
       "      <td>-0.053577</td>\n",
       "      <td>-0.013128</td>\n",
       "      <td>-0.015786</td>\n",
       "      <td>0.141447</td>\n",
       "    </tr>\n",
       "    <tr>\n",
       "      <th>Humidity</th>\n",
       "      <td>-0.052482</td>\n",
       "      <td>0.117648</td>\n",
       "      <td>1.000000</td>\n",
       "      <td>-0.130328</td>\n",
       "      <td>-0.031696</td>\n",
       "      <td>0.093564</td>\n",
       "      <td>0.042983</td>\n",
       "    </tr>\n",
       "    <tr>\n",
       "      <th>Growth_Milestone</th>\n",
       "      <td>-0.122212</td>\n",
       "      <td>-0.053577</td>\n",
       "      <td>-0.130328</td>\n",
       "      <td>1.000000</td>\n",
       "      <td>0.031354</td>\n",
       "      <td>0.006565</td>\n",
       "      <td>0.098864</td>\n",
       "    </tr>\n",
       "    <tr>\n",
       "      <th>Soil_Type_Encoded</th>\n",
       "      <td>-0.134088</td>\n",
       "      <td>-0.013128</td>\n",
       "      <td>-0.031696</td>\n",
       "      <td>0.031354</td>\n",
       "      <td>1.000000</td>\n",
       "      <td>-0.088244</td>\n",
       "      <td>-0.009405</td>\n",
       "    </tr>\n",
       "    <tr>\n",
       "      <th>Water_Frequency_Encoded</th>\n",
       "      <td>0.117839</td>\n",
       "      <td>-0.015786</td>\n",
       "      <td>0.093564</td>\n",
       "      <td>0.006565</td>\n",
       "      <td>-0.088244</td>\n",
       "      <td>1.000000</td>\n",
       "      <td>0.066926</td>\n",
       "    </tr>\n",
       "    <tr>\n",
       "      <th>Fertilizer_Type_Encoded</th>\n",
       "      <td>0.046378</td>\n",
       "      <td>0.141447</td>\n",
       "      <td>0.042983</td>\n",
       "      <td>0.098864</td>\n",
       "      <td>-0.009405</td>\n",
       "      <td>0.066926</td>\n",
       "      <td>1.000000</td>\n",
       "    </tr>\n",
       "  </tbody>\n",
       "</table>\n",
       "</div>"
      ],
      "text/plain": [
       "                         Sunlight_Hours  Temperature  Humidity  \\\n",
       "Sunlight_Hours                 1.000000    -0.100628 -0.052482   \n",
       "Temperature                   -0.100628     1.000000  0.117648   \n",
       "Humidity                      -0.052482     0.117648  1.000000   \n",
       "Growth_Milestone              -0.122212    -0.053577 -0.130328   \n",
       "Soil_Type_Encoded             -0.134088    -0.013128 -0.031696   \n",
       "Water_Frequency_Encoded        0.117839    -0.015786  0.093564   \n",
       "Fertilizer_Type_Encoded        0.046378     0.141447  0.042983   \n",
       "\n",
       "                         Growth_Milestone  Soil_Type_Encoded  \\\n",
       "Sunlight_Hours                  -0.122212          -0.134088   \n",
       "Temperature                     -0.053577          -0.013128   \n",
       "Humidity                        -0.130328          -0.031696   \n",
       "Growth_Milestone                 1.000000           0.031354   \n",
       "Soil_Type_Encoded                0.031354           1.000000   \n",
       "Water_Frequency_Encoded          0.006565          -0.088244   \n",
       "Fertilizer_Type_Encoded          0.098864          -0.009405   \n",
       "\n",
       "                         Water_Frequency_Encoded  Fertilizer_Type_Encoded  \n",
       "Sunlight_Hours                          0.117839                 0.046378  \n",
       "Temperature                            -0.015786                 0.141447  \n",
       "Humidity                                0.093564                 0.042983  \n",
       "Growth_Milestone                        0.006565                 0.098864  \n",
       "Soil_Type_Encoded                      -0.088244                -0.009405  \n",
       "Water_Frequency_Encoded                 1.000000                 0.066926  \n",
       "Fertilizer_Type_Encoded                 0.066926                 1.000000  "
      ]
     },
     "execution_count": 32,
     "metadata": {},
     "output_type": "execute_result"
    }
   ],
   "source": [
    "df.corr() # must have numeric couloumn\n"
   ]
  },
  {
   "cell_type": "markdown",
   "id": "568f75ba",
   "metadata": {},
   "source": [
    "## Visualization Through Pandas\n",
    " * line plot\n",
    " * bar plot\n",
    " * histogram\n",
    " * scatter plot"
   ]
  },
  {
   "cell_type": "code",
   "execution_count": 34,
   "id": "e9401e42",
   "metadata": {},
   "outputs": [
    {
     "data": {
      "text/plain": [
       "<Axes: xlabel='Growth_Milestone'>"
      ]
     },
     "execution_count": 34,
     "metadata": {},
     "output_type": "execute_result"
    },
    {
     "data": {
      "image/png": "[encoded data removed]",
      "text/plain": [
       "<Figure size 640x480 with 1 Axes>"
      ]
     },
     "metadata": {},
     "output_type": "display_data"
    }
   ],
   "source": [
    "# visualzing bar plot\n",
    "df['Growth_Milestone'].value_counts().plot(kind='bar')"
   ]
  },
  {
   "cell_type": "code",
   "execution_count": 35,
   "id": "e81c8d74",
   "metadata": {},
   "outputs": [
    {
     "data": {
      "text/plain": [
       "<Axes: xlabel='Growth_Milestone'>"
      ]
     },
     "execution_count": 35,
     "metadata": {},
     "output_type": "execute_result"
    },
    {
     "data": {
      "image/png": "[encoded data removed]",
      "text/plain": [
       "<Figure size 640x480 with 1 Axes>"
      ]
     },
     "metadata": {},
     "output_type": "display_data"
    }
   ],
   "source": [
    "# using line plot\n",
    "df['Growth_Milestone'].value_counts().plot(kind='line')"
   ]
  },
  {
   "cell_type": "code",
   "execution_count": 36,
   "id": "9638a727",
   "metadata": {},
   "outputs": [
    {
     "data": {
      "text/plain": [
       "<Axes: ylabel='Frequency'>"
      ]
     },
     "execution_count": 36,
     "metadata": {},
     "output_type": "execute_result"
    },
    {
     "data": {
      "image/png": "[encoded data removed]",
      "text/plain": [
       "<Figure size 640x480 with 1 Axes>"
      ]
     },
     "metadata": {},
     "output_type": "display_data"
    }
   ],
   "source": [
    "# plotting a histogram \n",
    "df['Growth_Milestone'].value_counts().plot(kind='hist')"
   ]
  },
  {
   "cell_type": "code",
   "execution_count": 37,
   "id": "54030af0",
   "metadata": {},
   "outputs": [
    {
     "data": {
      "text/plain": [
       "<Axes: xlabel='Sunlight_Hours', ylabel='Temperature'>"
      ]
     },
     "execution_count": 37,
     "metadata": {},
     "output_type": "execute_result"
    },
    {
     "data": {
      "image/png": "[encoded data removed]",
      "text/plain": [
       "<Figure size 640x480 with 1 Axes>"
      ]
     },
     "metadata": {},
     "output_type": "display_data"
    }
   ],
   "source": [
    "# scatter plot\n",
    "df.plot(kind='scatter',x='Sunlight_Hours',y='Temperature')"
   ]
  },
  {
   "cell_type": "code",
   "execution_count": 38,
   "id": "5d4f49c8",
   "metadata": {},
   "outputs": [
    {
     "data": {
      "text/plain": [
       "<Axes: xlabel='Humidity', ylabel='Temperature'>"
      ]
     },
     "execution_count": 38,
     "metadata": {},
     "output_type": "execute_result"
    },
    {
     "data": {
      "image/png": "[encoded data removed]",
      "text/plain": [
       "<Figure size 640x480 with 2 Axes>"
      ]
     },
     "metadata": {},
     "output_type": "display_data"
    }
   ],
   "source": [
    "# more complex plot\n",
    "df.plot(kind='scatter',x='Humidity',y='Temperature',c='Growth_Milestone')"
   ]
  },
  {
   "cell_type": "code",
   "execution_count": null,
   "id": "734141b0",
   "metadata": {},
   "outputs": [],
   "source": []
  }
 ],
 "metadata": {
  "kernelspec": {
   "display_name": "Python 3",
   "language": "python",
   "name": "python3"
  },
  "language_info": {
   "codemirror_mode": {
    "name": "ipython",
    "version": 3
   },
   "file_extension": ".py",
   "mimetype": "text/x-python",
   "name": "python",
   "nbconvert_exporter": "python",
   "pygments_lexer": "ipython3",
   "version": "3.12.3"
  }
 },
 "nbformat": 4,
 "nbformat_minor": 5
}
