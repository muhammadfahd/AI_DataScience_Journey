{
 "cells": [
  {
   "cell_type": "markdown",
   "id": "ae2f2d03",
   "metadata": {},
   "source": [
    "# Automatic EDA using ydata_profiling\n"
   ]
  },
  {
   "cell_type": "code",
   "execution_count": 1,
   "id": "0e946e5f",
   "metadata": {},
   "outputs": [
    {
     "name": "stderr",
     "output_type": "stream",
     "text": [
      "c:\\Users\\bashi\\AppData\\Local\\Programs\\Python\\Python312\\Lib\\site-packages\\tqdm\\auto.py:21: TqdmWarning: IProgress not found. Please update jupyter and ipywidgets. See https://ipywidgets.readthedocs.io/en/stable/user_install.html\n",
      "  from .autonotebook import tqdm as notebook_tqdm\n"
     ]
    },
    {
     "data": {
      "text/html": [
       "\n",
       "            <div>\n",
       "                <ins><a href=\"https://ydata.ai/register\">Upgrade to ydata-sdk</a></ins>\n",
       "                <p>\n",
       "                    Improve your data and profiling with ydata-sdk, featuring data quality scoring, redundancy detection, outlier identification, text validation, and synthetic data generation.\n",
       "                </p>\n",
       "            </div>\n",
       "            "
      ],
      "text/plain": [
       "<IPython.core.display.HTML object>"
      ]
     },
     "metadata": {},
     "output_type": "display_data"
    }
   ],
   "source": [
    "## installing libray\n",
    "import numpy as np\n",
    "import pandas as pd\n",
    "import matplotlib.pyplot as plt\n",
    "import seaborn as sns\n",
    "import ydata_profiling as yd \n"
   ]
  },
  {
   "cell_type": "code",
   "execution_count": 2,
   "id": "dfa6794a",
   "metadata": {},
   "outputs": [],
   "source": [
    "# loading dataset\n",
    "df=sns.load_dataset('titanic')\n"
   ]
  },
  {
   "cell_type": "code",
   "execution_count": 3,
   "id": "588b970e",
   "metadata": {},
   "outputs": [
    {
     "name": "stderr",
     "output_type": "stream",
     "text": [
      "100%|██████████| 15/15 [00:00<00:00, 297.06it/s]<00:00, 25.52it/s, Describe variable: alone]     \n",
      "Summarize dataset: 100%|██████████| 41/41 [00:03<00:00, 11.63it/s, Completed]                 \n",
      "Generate report structure: 100%|██████████| 1/1 [00:03<00:00,  3.42s/it]\n",
      "Render HTML: 100%|██████████| 1/1 [00:01<00:00,  1.67s/it]\n",
      "Export report to file: 100%|██████████| 1/1 [00:00<00:00, 83.54it/s]\n"
     ]
    }
   ],
   "source": [
    "# ydata profiling\n",
    "profile=  yd.ProfileReport(df)\n",
    "profile.to_file('titanic.html')"
   ]
  },
  {
   "cell_type": "code",
   "execution_count": null,
   "id": "2523c313",
   "metadata": {},
   "outputs": [],
   "source": []
  }
 ],
 "metadata": {
  "kernelspec": {
   "display_name": "Python 3",
   "language": "python",
   "name": "python3"
  },
  "language_info": {
   "codemirror_mode": {
    "name": "ipython",
    "version": 3
   },
   "file_extension": ".py",
   "mimetype": "text/x-python",
   "name": "python",
   "nbconvert_exporter": "python",
   "pygments_lexer": "ipython3",
   "version": "3.12.3"
  }
 },
 "nbformat": 4,
 "nbformat_minor": 5
}
