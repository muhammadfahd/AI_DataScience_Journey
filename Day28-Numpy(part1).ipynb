{
 "cells": [
  {
   "cell_type": "markdown",
   "id": "03930c33",
   "metadata": {},
   "source": [
    "# Day 28 - Numpy Intro (Part 1)\n",
    "NumPy (Numerical Python) is a powerful Python library used for numerical computations, especially with arrays and matrices.\n",
    "\n",
    "🔹 Key Features:\n",
    "* **ndarray**: Efficient multi-dimensional array object.\n",
    "* **Broadcasting**: Perform operations on arrays of different shapes.\n",
    "* **Mathematical Functions**: Fast element-wise operations.\n",
    "* **Linear Algebra**: Built-in matrix operations, dot products, etc.\n",
    "* **Random Module**: Random number generation.\n",
    "For more check out the [official site](https://numpy.org/)"
   ]
  },
  {
   "cell_type": "markdown",
   "id": "18d2f765",
   "metadata": {},
   "source": [
    "## Table of Content \n",
    "* [Installing & Importing library](#installing--importing-the-library)\n",
    "* [Concept of Array](#concept-of-array)\n",
    "  * [Why & where we need](#why-and-where-we-need-these-)\n",
    "    * [1D Array](#-1d-array-vector)\n",
    "    * [2D Array](#-2d-array-matrix)\n",
    "    * [3D Array](#-3d-array-tensor)\n",
    "* [Creating Arrays with Numpy](#creating-arrays-with-numpy)\n",
    "  * [Initialize Array](#initialize-arrays)\n",
    "* [Array Attributes](#array-attributes)\n"
   ]
  },
  {
   "cell_type": "markdown",
   "id": "1b36dd0c",
   "metadata": {},
   "source": [
    "## Installing & importing the library \n",
    "\n",
    "* intall using command \n",
    "  * `pip install numpy `\n",
    "* for importing\n",
    "  * `import numpy as np`"
   ]
  },
  {
   "cell_type": "code",
   "execution_count": 1,
   "id": "c16dc449",
   "metadata": {},
   "outputs": [
    {
     "name": "stdout",
     "output_type": "stream",
     "text": [
      "Requirement already satisfied: numpy in c:\\users\\bashi\\appdata\\local\\programs\\python\\python312\\lib\\site-packages (1.26.4)\n",
      "Note: you may need to restart the kernel to use updated packages.\n"
     ]
    },
    {
     "name": "stderr",
     "output_type": "stream",
     "text": [
      "\n",
      "[notice] A new release of pip is available: 25.1 -> 25.1.1\n",
      "[notice] To update, run: python.exe -m pip install --upgrade pip\n"
     ]
    }
   ],
   "source": [
    "pip install numpy"
   ]
  },
  {
   "cell_type": "code",
   "execution_count": 2,
   "id": "d01d576e",
   "metadata": {},
   "outputs": [],
   "source": [
    "import numpy as np"
   ]
  },
  {
   "cell_type": "markdown",
   "id": "4453eee6",
   "metadata": {},
   "source": [
    "## Concept of Array \n",
    "At the heart of NumPy is the ndarray (n-dimensional array), a fast, flexible container for large data sets in Python.\n",
    "A NumPy array is a grid of values (all of the same data type) indexed by a tuple of non-negative integers.\n",
    "\n",
    "It is more efficient than Python lists.\n",
    "Supports vectorized operations (fast calculations without explicit loops).\n",
    "\n"
   ]
  },
  {
   "cell_type": "code",
   "execution_count": 9,
   "id": "043568fd",
   "metadata": {},
   "outputs": [
    {
     "name": "stdout",
     "output_type": "stream",
     "text": [
      "[0 1 2 3 4 5 6 7 8 9]\n",
      "First Array (1D) shape :   (10,)\n"
     ]
    }
   ],
   "source": [
    "# creating 1d array with range of 10\n",
    "\n",
    "first_array = np.arange(10)\n",
    "print(first_array)\n",
    "\n",
    "print(\"First Array (1D) shape :  \",first_array.shape)"
   ]
  },
  {
   "cell_type": "code",
   "execution_count": 10,
   "id": "306da6ba",
   "metadata": {},
   "outputs": [
    {
     "name": "stdout",
     "output_type": "stream",
     "text": [
      "[[0 1 2 3 4 5 6 7 8 9]]\n",
      "Second Array (2D) shape  (1, 10)\n"
     ]
    }
   ],
   "source": [
    "# creating 2d arrays\n",
    "second_array=first_array[np.newaxis,:]\n",
    "print(second_array)\n",
    "\n",
    "print(\"Second Array (2D) shape \",second_array.shape)"
   ]
  },
  {
   "cell_type": "code",
   "execution_count": 11,
   "id": "fa495819",
   "metadata": {},
   "outputs": [
    {
     "name": "stdout",
     "output_type": "stream",
     "text": [
      "[[[0 1 2 3 4 5 6 7 8 9]]]\n",
      "Third Array (3D) shape  (1, 1, 10)\n"
     ]
    }
   ],
   "source": [
    "# creating 3d arrays\n",
    "third_array=second_array[np.newaxis,:]\n",
    "print(third_array)\n",
    "\n",
    "print(\"Third Array (3D) shape \",third_array.shape)"
   ]
  },
  {
   "cell_type": "markdown",
   "id": "d27d12f4",
   "metadata": {},
   "source": [
    "### Why and where we need these ? \n"
   ]
  },
  {
   "cell_type": "markdown",
   "id": "fe02e327",
   "metadata": {},
   "source": [
    "#### 🔹 1D Array (Vector)\n",
    "Structure: Single row or column\n",
    "Shape: (n,)\n",
    "\n",
    "📌 Use Cases:\n",
    "* Storing features of a single data point: [height, weight, age]\n",
    "* Working with simple lists of values: temperatures, scores, etc.\n",
    "* Basic mathematical operations: dot products, sums\n",
    "\n"
   ]
  },
  {
   "cell_type": "code",
   "execution_count": 13,
   "id": "5412e3d2",
   "metadata": {},
   "outputs": [
    {
     "name": "stdout",
     "output_type": "stream",
     "text": [
      "[170  65  22]\n",
      "(3,)\n"
     ]
    }
   ],
   "source": [
    "features = np.array([170, 65, 22])  # height, weight, age\n",
    "print(features)\n",
    "print(features.shape)"
   ]
  },
  {
   "cell_type": "markdown",
   "id": "faded658",
   "metadata": {},
   "source": [
    "#### 🔹 2D Array (Matrix)\n",
    "Structure: Rows × Columns\n",
    "Shape: (m, n)\n",
    "\n",
    "📌 Use Cases:\n",
    "* Dataset with multiple samples and features:\n",
    "* Images in grayscale (height × width)\n",
    "* Confusion matrix, transformation matrices in ML\n",
    "* Tabular data (like Excel or CSV)\n",
    "\n",
    "A 2D array means it has two dimensions: rows and columns, but the number of rows and columns can be anything.\n",
    "\n",
    "🔹 A 2D array could be:\n",
    "* 3 rows and 2 columns → shape: (3, 2)\n",
    "* 2 rows and 5 columns → shape: (2, 5)\n",
    "* 4 rows and 4 columns → shape: (4, 4)\n"
   ]
  },
  {
   "cell_type": "code",
   "execution_count": 18,
   "id": "9e168900",
   "metadata": {},
   "outputs": [
    {
     "data": {
      "text/plain": [
       "(3, 3)"
      ]
     },
     "execution_count": 18,
     "metadata": {},
     "output_type": "execute_result"
    }
   ],
   "source": [
    "dataset = np.array([\n",
    "    [170, 65, 22],\n",
    "    [180, 70, 24],\n",
    "    [160, 55, 21]\n",
    "])\n",
    "dataset.shape"
   ]
  },
  {
   "cell_type": "markdown",
   "id": "c1dd282d",
   "metadata": {},
   "source": [
    "#### 🔹 3D Array (Tensor)\n",
    "Structure: Depth × Rows × Columns\n",
    "Shape: (d, m, n)\n",
    "\n",
    "📌 Use Cases:\n",
    "* Colored images (RGB): Each image has 3 layers (R, G, B)\n",
    "    * Shape: (height, width, 3)\n",
    "* Multiple sequences of data (e.g. video frames, time series)\n",
    "* Neural networks input data (batch size × features)\n",
    "* NLP: Word embeddings across time steps"
   ]
  },
  {
   "cell_type": "code",
   "execution_count": 21,
   "id": "f5297281",
   "metadata": {},
   "outputs": [
    {
     "name": "stdout",
     "output_type": "stream",
     "text": [
      "(2, 2, 3)\n"
     ]
    }
   ],
   "source": [
    "\n",
    "image = np.array([\n",
    "  [[255, 0, 0], [0, 255, 0]],      # Row 1: Red, Green\n",
    "  [[0, 0, 255], [255, 255, 0]]     # Row 2: Blue, Yellow\n",
    "])\n",
    "\n",
    "print(image.shape)  # Output: (2, 2, 3)\n"
   ]
  },
  {
   "cell_type": "markdown",
   "id": "e1b35535",
   "metadata": {},
   "source": [
    "----"
   ]
  },
  {
   "cell_type": "markdown",
   "id": "06b25525",
   "metadata": {},
   "source": [
    "## Creating Arrays with Numpy"
   ]
  },
  {
   "cell_type": "code",
   "execution_count": null,
   "id": "01778b32",
   "metadata": {},
   "outputs": [],
   "source": [
    "a=np.array([1,24,3,4,5,6,7,8,9])  #1d array\n",
    "b=np.array([(1,2,3),(4,5,6),(7,8,9)]) #2d array "
   ]
  },
  {
   "cell_type": "code",
   "execution_count": 25,
   "id": "658f43e7",
   "metadata": {},
   "outputs": [
    {
     "name": "stdout",
     "output_type": "stream",
     "text": [
      "1D Array [ 1 24  3  4  5  6  7  8  9]\n",
      "(9,)\n",
      "2D Array [[1 2 3]\n",
      " [4 5 6]\n",
      " [7 8 9]]\n",
      "(3, 3)\n"
     ]
    }
   ],
   "source": [
    "print(\"1D Array\",a)\n",
    "print(a.shape)\n",
    "#---\n",
    "print(\"2D Array\",b)\n",
    "print(b.shape)"
   ]
  },
  {
   "cell_type": "markdown",
   "id": "424dae48",
   "metadata": {},
   "source": [
    "### initialize arrays\n"
   ]
  },
  {
   "cell_type": "code",
   "execution_count": 32,
   "id": "03d655f0",
   "metadata": {},
   "outputs": [
    {
     "name": "stdout",
     "output_type": "stream",
     "text": [
      "[[0. 0. 0.]\n",
      " [0. 0. 0.]]\n",
      "(2, 3)\n"
     ]
    }
   ],
   "source": [
    "zeros=np.zeros((2,3)) # number of rows and coloumns\n",
    "\n",
    "print(np.zeros((2,3)))\n",
    "print(zeros.shape)"
   ]
  },
  {
   "cell_type": "code",
   "execution_count": 31,
   "id": "d3c5ca28",
   "metadata": {},
   "outputs": [
    {
     "name": "stdout",
     "output_type": "stream",
     "text": [
      "[[1. 1. 1. 1. 1.]\n",
      " [1. 1. 1. 1. 1.]\n",
      " [1. 1. 1. 1. 1.]]\n",
      "(3, 5)\n"
     ]
    }
   ],
   "source": [
    "ones=np.ones((3,5))\n",
    "print(ones)\n",
    "print(ones.shape)"
   ]
  },
  {
   "cell_type": "code",
   "execution_count": null,
   "id": "ba688383",
   "metadata": {},
   "outputs": [
    {
     "name": "stdout",
     "output_type": "stream",
     "text": [
      "[[5 5 5]\n",
      " [5 5 5]]\n"
     ]
    }
   ],
   "source": [
    "full=np.full((2,3),5)  # 2 rows 3 coloumn => 5 will be printed\n",
    "print(full) \n"
   ]
  },
  {
   "cell_type": "code",
   "execution_count": null,
   "id": "57376c57",
   "metadata": {},
   "outputs": [
    {
     "name": "stdout",
     "output_type": "stream",
     "text": [
      "[[1. 0. 0.]\n",
      " [0. 1. 0.]\n",
      " [0. 0. 1.]]\n",
      "(3, 3)\n"
     ]
    }
   ],
   "source": [
    "identity=np.eye(3)  # identity matrix\n",
    "print(identity)\n",
    "print(identity.shape)"
   ]
  },
  {
   "cell_type": "markdown",
   "id": "248dc06a",
   "metadata": {},
   "source": [
    "## array Attributes"
   ]
  },
  {
   "cell_type": "markdown",
   "id": "aa8eb94e",
   "metadata": {},
   "source": [
    "**1. ndim → Number of dimensions**"
   ]
  },
  {
   "cell_type": "code",
   "execution_count": 35,
   "id": "f6f85e35",
   "metadata": {},
   "outputs": [
    {
     "name": "stdout",
     "output_type": "stream",
     "text": [
      "2\n"
     ]
    }
   ],
   "source": [
    "a = np.array([[1, 2, 3], [4, 5, 6]])\n",
    "print(a.ndim)  # Output: 2"
   ]
  },
  {
   "cell_type": "markdown",
   "id": "34428410",
   "metadata": {},
   "source": [
    "**2. shape → Dimensions of the array**"
   ]
  },
  {
   "cell_type": "code",
   "execution_count": 36,
   "id": "502e59d0",
   "metadata": {},
   "outputs": [
    {
     "name": "stdout",
     "output_type": "stream",
     "text": [
      "(2, 3)\n"
     ]
    }
   ],
   "source": [
    "print(a.shape)  # Output: (2, 3)\n"
   ]
  },
  {
   "cell_type": "markdown",
   "id": "9e823627",
   "metadata": {},
   "source": [
    "**3. size → Total number of elements**"
   ]
  },
  {
   "cell_type": "code",
   "execution_count": 37,
   "id": "255238f9",
   "metadata": {},
   "outputs": [
    {
     "name": "stdout",
     "output_type": "stream",
     "text": [
      "6\n"
     ]
    }
   ],
   "source": [
    "print(a.size)  # Output: 6\n"
   ]
  },
  {
   "cell_type": "markdown",
   "id": "d9ae69e8",
   "metadata": {},
   "source": [
    "**4. dtype → Data type of the elements**\n"
   ]
  },
  {
   "cell_type": "code",
   "execution_count": 38,
   "id": "ba0d29fb",
   "metadata": {},
   "outputs": [
    {
     "name": "stdout",
     "output_type": "stream",
     "text": [
      "int32\n"
     ]
    }
   ],
   "source": [
    "print(a.dtype)  # Output: int64 (or int32 depending on your system)\n"
   ]
  },
  {
   "cell_type": "markdown",
   "id": "fa5eaf9c",
   "metadata": {},
   "source": [
    "**5. T → Transpose of the array**"
   ]
  },
  {
   "cell_type": "code",
   "execution_count": 39,
   "id": "5882d5d0",
   "metadata": {},
   "outputs": [
    {
     "name": "stdout",
     "output_type": "stream",
     "text": [
      "[[1 4]\n",
      " [2 5]\n",
      " [3 6]]\n"
     ]
    }
   ],
   "source": [
    "print(a.T)\n",
    "# Output:\n",
    "# [[1 4]\n",
    "#  [2 5]\n",
    "#  [3 6]]\n"
   ]
  },
  {
   "cell_type": "markdown",
   "id": "b7f32afc",
   "metadata": {},
   "source": [
    " **6. reshape() → Change the shape without changing the data**"
   ]
  },
  {
   "cell_type": "code",
   "execution_count": 40,
   "id": "315afdc0",
   "metadata": {},
   "outputs": [
    {
     "name": "stdout",
     "output_type": "stream",
     "text": [
      "[[1 2]\n",
      " [3 4]\n",
      " [5 6]]\n"
     ]
    }
   ],
   "source": [
    "b = a.reshape((3, 2))\n",
    "print(b)\n",
    "# Output:\n",
    "# [[1 2]\n",
    "#  [3 4]\n",
    "#  [5 6]]\n"
   ]
  },
  {
   "cell_type": "code",
   "execution_count": null,
   "id": "93e7f776",
   "metadata": {},
   "outputs": [],
   "source": []
  }
 ],
 "metadata": {
  "kernelspec": {
   "display_name": "Python 3",
   "language": "python",
   "name": "python3"
  },
  "language_info": {
   "codemirror_mode": {
    "name": "ipython",
    "version": 3
   },
   "file_extension": ".py",
   "mimetype": "text/x-python",
   "name": "python",
   "nbconvert_exporter": "python",
   "pygments_lexer": "ipython3",
   "version": "3.12.3"
  }
 },
 "nbformat": 4,
 "nbformat_minor": 5
}
