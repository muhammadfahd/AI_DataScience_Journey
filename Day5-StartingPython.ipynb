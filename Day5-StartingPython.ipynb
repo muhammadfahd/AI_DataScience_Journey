{
 "cells": [
  {
   "cell_type": "markdown",
   "id": "ea918b50",
   "metadata": {},
   "source": [
    "# Day 5 Starting Python \n",
    "-------------------------------------\n",
    "Following importatnt concept will be covered in this \n",
    "* Printing on Screen \n",
    "* Operators \n",
    "  * Arithmetic Operators\n",
    "  * Comparison Operators\n",
    "* Data Types \n"
   ]
  },
  {
   "cell_type": "markdown",
   "id": "5e8810ef",
   "metadata": {},
   "source": [
    "## 1. Printing on screen \n",
    "the print() function is used to output text or values to the screen.\n",
    "` print(\"Hello, World!\") ` # Print a string\n",
    "\n",
    "Key Components\n",
    "1. **print() function**: This is a built-in Python function that outputs its argument to the screen.\n",
    "2. **\"Hello, World!\"**: This is a string literal, enclosed in double quotes. The string can contain any characters, including letters, numbers, and special characters.\n",
    "3.  **Print a string**: This is a comment started with #, which is ignored by the Python interpreter. Comments are used to add notes or explanations to the code.\n",
    "\n",
    "Variations\n",
    "You can print different types of values, such as:\n",
    "\n",
    "- Strings: print(\"Hello\")\n",
    "- Numbers: print(42)\n",
    "- Variables: x = 5; print(x)\n",
    "- Expressions: print(2 + 3)\n",
    "\n",
    "Example Use Cases\n",
    "- Printing a greeting: print(\"Welcome to Python!\")\n",
    "- Displaying a calculation result: print(\"The result is:\", 2 + 3)\n",
    "- Debugging: print(\"Variable x has value:\", x)"
   ]
  },
  {
   "cell_type": "code",
   "execution_count": 1,
   "id": "81b81d0e",
   "metadata": {},
   "outputs": [
    {
     "name": "stdout",
     "output_type": "stream",
     "text": [
      "Hello World\n",
      "42\n",
      "9\n"
     ]
    }
   ],
   "source": [
    "print(\"Hello World\")\n",
    "print(42)\n",
    "print(3+6)"
   ]
  },
  {
   "cell_type": "markdown",
   "id": "945d2e9e",
   "metadata": {},
   "source": [
    "## 2.Variables\n",
    "Variables are used to store and manipulate data in Python. Variables are names given to objects or values in Python. They can store different types of data, such as integers, strings, and floats.\n",
    "\n",
    "**Rules for Variables**\n",
    "1. Use small letters: It's conventional to use small letters for variable names to avoid confusion.\n",
    "2. Avoid spaces: Don't use spaces in variable names. Instead, use underscores or camelCase.\n",
    "3. Don't use reserved words: Avoid using Python's reserved words, such as print, as variable names.\n",
    "4. Meaningful names: Choose variable names that are meaningful and descriptive.\n",
    "\n",
    "**Uses of Variables**\n",
    "1. Performing calculations: Variables can store the results of calculations, making it easier to reuse them.\n",
    "2. Importing data: Variables can be used to store imported data, such as data frames.\n",
    "3. Naming data: Variables can be used to give meaningful names to data, making it easier to understand and work with.\n",
    "\n",
    "**Assigning values to variables**\n",
    "a = 5 + 7  # integer\n",
    "b = \"Black Color\"  # string\n",
    "c = 5.5  # float\n",
    "\n",
    "**Printing variables**\n",
    "print(a)  # Output: 12\n",
    "print(b)  # Output: Black Color\n",
    "print(c)  # Output: 5.5"
   ]
  },
  {
   "cell_type": "code",
   "execution_count": 2,
   "id": "8f1533c7",
   "metadata": {},
   "outputs": [
    {
     "name": "stdout",
     "output_type": "stream",
     "text": [
      "6\n",
      "7.0\n",
      "a\n",
      "True\n"
     ]
    }
   ],
   "source": [
    "a=6  # a is integar variable storing value 6\n",
    "b=7.0  # is float variable storing value 7\n",
    "c=\"a\"  # c is string variable storing value \"a\"\n",
    "d=True  # d is boolean variable storing value True\n",
    "\n",
    "\n",
    "print(a)\n",
    "print(b)\n",
    "print(c)\n",
    "print(d)\n"
   ]
  },
  {
   "cell_type": "markdown",
   "id": "2d411a1d",
   "metadata": {},
   "source": [
    "## 3.Operators\n",
    "Operators are special symbols in Python that perform operations on variables and values. They help you manipulate data, make comparisons, and perform logical operations.\n"
   ]
  },
  {
   "cell_type": "markdown",
   "id": "39ede2c6",
   "metadata": {},
   "source": [
    "### i) Arithmetic Operators\n",
    "Arithmetic Operators\n",
    "Arithmetic operators are used to perform mathematical operations on numbers. Here are the basic arithmetic operators in Python:\n",
    "\n",
    "1. **Addition (+)**: Adds two numbers together.\n",
    "    - Example: a = 5; b = 3; print(a + b) outputs 8\n",
    "\n",
    "2. **Subtraction (-)**: Subtracts one number from another.\n",
    "    - Example: a = 5; b = 3; print(a - b) outputs 2\n",
    "\n",
    "3. ***Multiplication (*)**: Multiplies two numbers together.\n",
    "    - Example: a = 5; b = 3; print(a * b) outputs 15\n",
    "\n",
    "4. **Division (/)**: Divides one number by another.\n",
    "    - Example: a = 10; b = 2; print(a / b) outputs 5.0\n",
    "\n",
    "5. **Floor Division (//)**: Divides one number by another and returns the largest whole number.\n",
    "    - Example: a = 10; b = 3; print(a // b) outputs 3\n",
    "\n",
    "6. **Modulus (%)**: Returns the remainder of a division operation.\n",
    "    - Example: a = 10; b = 3; print(a % b) outputs 1\n",
    "\n",
    "7. ***Exponentiation (**)***: \n",
    "   Raises one number to the power of another.\n",
    "    - Example: a = 2; b = 3; print(a ** b) outputs 8"
   ]
  },
  {
   "cell_type": "code",
   "execution_count": 4,
   "id": "ef56aa65",
   "metadata": {},
   "outputs": [
    {
     "name": "stdout",
     "output_type": "stream",
     "text": [
      "------------------------Artithmetic Operations------------------------\n",
      "Addition 13\n",
      "Subtraction 7\n",
      "Multiplication 30\n",
      "Division 3.3333333333333335\n",
      "Modulus 1\n",
      "Floor division 3\n",
      "Exponent 1000\n"
     ]
    }
   ],
   "source": [
    "a=10 \n",
    "b=3\n",
    "print('------------------------Artithmetic Operations------------------------')\n",
    "print(\"Addition\",a+b) \n",
    "print(\"Subtraction\",a-b)\n",
    "print(\"Multiplication\",a*b)\n",
    "print(\"Division\",a/b)\n",
    "print(\"Modulus\",a%b)\n",
    "print(\"Floor division\",a//b)\n",
    "print(\"Exponent\",a**b)"
   ]
  },
  {
   "cell_type": "markdown",
   "id": "ecc0dc93",
   "metadata": {},
   "source": [
    "### ii) Comparison Operators\n",
    "Comparison operators are used to compare values and return a boolean result (True or False). They're essential in programming for making decisions, validating data, and controlling the flow of your code.\n",
    "\n",
    "**Types of Comparison Operators**\n",
    "1.**Equal to (==)**: Checks if two values are equal.\n",
    "    - Example: 5 == 5 returns True\n",
    "\n",
    "2. **Not equal to (!=)**: Checks if two values are not equal.\n",
    "    - Example: 5 != 3 returns True\n",
    "\n",
    "3. **Greater than (>)**: Checks if one value is greater than another.\n",
    "    - Example: 5 > 3 returns True\n",
    "\n",
    "4. **Less than (<)**: Checks if one value is less than another.\n",
    "    - Example: 3 < 5 returns True\n",
    "\n",
    "5. **Greater than or equal to (>=)**: Checks if one value is greater than or equal to another.\n",
    "    - Example: 5 >= 5 returns True\n",
    "\n",
    "6. **Less than or equal to (<=)**: Checks if one value is less than or equal to another.\n",
    "    - Example: 3 <= 5 returns True "
   ]
  },
  {
   "cell_type": "code",
   "execution_count": 5,
   "id": "904cffe9",
   "metadata": {},
   "outputs": [
    {
     "name": "stdout",
     "output_type": "stream",
     "text": [
      "You are eligible to vote.\n"
     ]
    }
   ],
   "source": [
    "# Check if a user is eligible to vote\n",
    "age = 25\n",
    "if age >= 18:\n",
    "    print(\"You are eligible to vote.\")"
   ]
  },
  {
   "cell_type": "code",
   "execution_count": 6,
   "id": "9e1a5114",
   "metadata": {},
   "outputs": [
    {
     "name": "stdout",
     "output_type": "stream",
     "text": [
      "Login successful.\n"
     ]
    }
   ],
   "source": [
    "# Validate a user's password\n",
    "password = \"hello\"\n",
    "if password == \"hello\":\n",
    "    print(\"Login successful.\")"
   ]
  },
  {
   "cell_type": "code",
   "execution_count": 7,
   "id": "f7eb8eb9",
   "metadata": {},
   "outputs": [
    {
     "name": "stdout",
     "output_type": "stream",
     "text": [
      "num2 is greater or equal.\n"
     ]
    }
   ],
   "source": [
    "# Compare two numbers\n",
    "num1 = 10\n",
    "num2 = 20\n",
    "if num1 > num2:\n",
    "    print(\"num1 is greater.\")\n",
    "else:\n",
    "    print(\"num2 is greater or equal.\")"
   ]
  },
  {
   "cell_type": "markdown",
   "id": "fbd91d72",
   "metadata": {},
   "source": [
    "## Data Types \n",
    "- Python has several built-in data types, including integers, strings, lists, dictionaries, and sets.\n",
    "- Each data type has its own unique characteristics and uses.\n",
    "- Understanding the different data types is essential for effective programming in Python.\n",
    "\n",
    "1. Integers: whole numbers, e.g., 1, 2, 3, etc.\n",
    "2. Strings: sequences of characters, e.g., \"hello\", 'hello', etc. Strings can be enclosed in single quotes or double quotes.\n",
    "3. Lists: ordered collections of items, e.g., [1, 2, 3], [\"apple\", \"banana\", \"cherry\"], etc. Lists can contain any data type, including strings, integers, and other lists.\n",
    "4. Dictionary: unordered collections of key-value pairs, e.g., {\"name\": \"John\", \"age\": 30}, etc. Dictionaries are defined using curly brackets {} and consist of keys and values separated by colons.\n",
    "5. Sets: unordered collections of unique items, e.g., {1, 2, 3}, {\"apple\", \"banana\", \"cherry\"}, etc. Sets are defined using curly brackets {} and are used to store unique values."
   ]
  },
  {
   "cell_type": "code",
   "execution_count": 9,
   "id": "760cd767",
   "metadata": {},
   "outputs": [
    {
     "name": "stdout",
     "output_type": "stream",
     "text": [
      "integar 10\n",
      "float 3.14\n",
      "string Hello\n",
      "boolean True\n"
     ]
    }
   ],
   "source": [
    "# Example of integars\n",
    "a = 10\n",
    "\n",
    "# Example of float\n",
    "b = 3.14\n",
    "\n",
    "# Example of string\n",
    "c = \"Hello\"\n",
    "\n",
    "# Example of boolean\n",
    "d = True\n",
    "\n",
    "print(\"integar\",a)\n",
    "print(\"float\",b)\n",
    "print(\"string\",c)\n",
    "print(\"boolean\",d)\n"
   ]
  },
  {
   "cell_type": "code",
   "execution_count": 10,
   "id": "e84625e1",
   "metadata": {},
   "outputs": [
    {
     "name": "stdout",
     "output_type": "stream",
     "text": [
      "list of integars [1, 2, 3]\n",
      "list of strings ['apple', 'banana', 'cherry']\n",
      "list of mixed types [1, 'hello', 3.14]\n"
     ]
    }
   ],
   "source": [
    "# example of list - \n",
    "## list of integars\n",
    "a = [1, 2, 3]\n",
    "\n",
    "## list of strings\n",
    "b = [\"apple\", \"banana\", \"cherry\"]\n",
    "\n",
    "     ## list of mixed types\n",
    "c = [1, \"hello\", 3.14]\n",
    "\n",
    "print(\"list of integars\",a)\n",
    "print(\"list of strings\",b)\n",
    "print(\"list of mixed types\",c)\n",
    "\n"
   ]
  },
  {
   "cell_type": "code",
   "execution_count": 11,
   "id": "ca06fcc7",
   "metadata": {},
   "outputs": [
    {
     "name": "stdout",
     "output_type": "stream",
     "text": [
      "dictionary {'name': 'John', 'age': 30, 'city': 'New York'}\n"
     ]
    }
   ],
   "source": [
    "# example of dictionary\n",
    "# dictionary have key and value pair \n",
    "d = {\"name\": \"John\", \"age\": 30, \"city\": \"New York\"}\n",
    "\n",
    "print(\"dictionary\",d)"
   ]
  },
  {
   "cell_type": "code",
   "execution_count": 12,
   "id": "4ab4dd2d",
   "metadata": {},
   "outputs": [
    {
     "name": "stdout",
     "output_type": "stream",
     "text": [
      "sets {1, 2, 3}\n"
     ]
    }
   ],
   "source": [
    "# example of sets\n",
    "# sets are unordered collections of unique elements .sets are mutable, meaning they can be changed after creation\n",
    "s = {1, 2, 3}\n",
    "\n",
    "print(\"sets\",s)"
   ]
  },
  {
   "cell_type": "code",
   "execution_count": null,
   "id": "d9e09ebb",
   "metadata": {},
   "outputs": [],
   "source": []
  }
 ],
 "metadata": {
  "kernelspec": {
   "display_name": "Python 3",
   "language": "python",
   "name": "python3"
  },
  "language_info": {
   "codemirror_mode": {
    "name": "ipython",
    "version": 3
   },
   "file_extension": ".py",
   "mimetype": "text/x-python",
   "name": "python",
   "nbconvert_exporter": "python",
   "pygments_lexer": "ipython3",
   "version": "3.12.3"
  }
 },
 "nbformat": 4,
 "nbformat_minor": 5
}
