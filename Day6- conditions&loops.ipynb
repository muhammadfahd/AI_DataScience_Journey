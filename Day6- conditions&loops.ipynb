{
 "cells": [
  {
   "cell_type": "markdown",
   "id": "c1405d2d",
   "metadata": {},
   "source": [
    "# Day 6 \n",
    "---\n",
    "In this we will cover the following \n",
    "* [identation & if else statement](#identation)\n",
    "* [Taking Input from user](#taking-input-from-user) \n",
    "* [Loop in Python - For Loop](#for-loops)\n",
    "* [Loop in Python - While Loop](#while-loops-in-python)\n",
    "  "
   ]
  },
  {
   "cell_type": "markdown",
   "id": "581a62cc",
   "metadata": {},
   "source": [
    "## Identation \n",
    "Indentation is the use of whitespace to indicate the nesting of code blocks. In Python, indentation is necessary to define the scope of the code.\n",
    "Indentation is used to indicate the nesting of code blocks, such as if-else statements\n",
    "\n",
    "## If-Else Statemement\n",
    "If-else statements are used to make decisions in programming based on conditions. They allow your code to execute different blocks of code depending on whether a condition is true or false.\n",
    "\n",
    "**Real-Life Example**\n",
    "Imagine you're planning a trip and need to decide what to wear based on the weather. You can use an if-else statement to make this decision.\n",
    "\n",
    "Example\n",
    "- If it's sunny outside, you'll wear shorts and a t-shirt.\n",
    "- If it's not sunny (i.e., it's cloudy or rainy), you'll wear a jacket and jeans."
   ]
  },
  {
   "cell_type": "code",
   "execution_count": 1,
   "id": "cbed02b4",
   "metadata": {},
   "outputs": [
    {
     "name": "stdout",
     "output_type": "stream",
     "text": [
      "Wear shorts and a t-shirt.\n"
     ]
    }
   ],
   "source": [
    "weather = \"sunny\"\n",
    "\n",
    "if weather == \"sunny\":\n",
    "    print(\"Wear shorts and a t-shirt.\")\n",
    "else:\n",
    "    print(\"Wear a jacket and jeans.\")"
   ]
  },
  {
   "cell_type": "code",
   "execution_count": 2,
   "id": "174785b7",
   "metadata": {},
   "outputs": [
    {
     "name": "stdout",
     "output_type": "stream",
     "text": [
      "You are eligible to vote.\n"
     ]
    }
   ],
   "source": [
    "# Let's say you want to check if a person is eligible to vote based on their age. You can use an if-else statement to make this decision.\n",
    "\n",
    "\n",
    "age = 25\n",
    "\n",
    "if age >= 18:\n",
    "    print(\"You are eligible to vote.\")\n",
    "else:\n",
    "    print(\"You are not eligible to vote.\")"
   ]
  },
  {
   "cell_type": "markdown",
   "id": "5fd86658",
   "metadata": {},
   "source": [
    "## Taking Input from User\n",
    "\n",
    "we can take input from the user using the **built-in input() function**. This function allows you to capture user input and store it in a variable for further processing.\n",
    "\n",
    "**Basic Syntax**\n",
    "The basic syntax for taking input from the user is:\n",
    "variable_name = input(\"prompt\")\n",
    "\n",
    "Here, \n",
    "- variable_name is the name of the variable that will store the user's input, and \n",
    "- \"prompt\" is the message that will be displayed to the user.\n",
    "\n",
    "> By default, the input() function returns a string. If you need to capture input as a different data type, such as an integer or float, you'll need to use type casting."
   ]
  },
  {
   "cell_type": "code",
   "execution_count": null,
   "id": "301fb664",
   "metadata": {},
   "outputs": [
    {
     "name": "stdout",
     "output_type": "stream",
     "text": [
      "Hello, Fahad!\n"
     ]
    }
   ],
   "source": [
    "# greeting user  \n",
    "#-----------------------string input\n",
    "user_name=input(\"Enter your name\")\n",
    "print(\"Hello, \" + user_name + \"!\")"
   ]
  },
  {
   "cell_type": "code",
   "execution_count": 4,
   "id": "53cbda65",
   "metadata": {},
   "outputs": [
    {
     "name": "stdout",
     "output_type": "stream",
     "text": [
      "You are 4.0 meters tall.\n"
     ]
    }
   ],
   "source": [
    "# Taking height from user \n",
    "#----------------------Float Input\n",
    "\n",
    "height = float(input(\"How tall are you (in meters)? \"))\n",
    "print(\"You are \" + str(height) + \" meters tall.\")"
   ]
  },
  {
   "cell_type": "markdown",
   "id": "26fca60f",
   "metadata": {},
   "source": [
    "**Best Practices**\n",
    "- Always validate user input to ensure it meets your program's requirements.\n",
    "- Use clear and concise prompts to help the user understand what input is expected.\n",
    "- Handle potential errors and exceptions to prevent your program from crashing.\n",
    "- Use type casting to convert input to the desired data type."
   ]
  },
  {
   "cell_type": "markdown",
   "id": "07f1fcc6",
   "metadata": {},
   "source": [
    "## Loops in Python\n",
    "Loops are used to execute a block of code repeatedly for a specified number of times. Python has\n",
    "two types of loops: for loops and while loops."
   ]
  },
  {
   "cell_type": "markdown",
   "id": "e3db314b",
   "metadata": {},
   "source": [
    "### For Loops\n",
    "For loops are used to iterate over a sequence (such as a list, tuple, or string)"
   ]
  },
  {
   "cell_type": "markdown",
   "id": "bd5a98c6",
   "metadata": {},
   "source": [
    "#### 1. Simple For Loop\n",
    "A simple for loop can be used to iterate over a range of numbers."
   ]
  },
  {
   "cell_type": "code",
   "execution_count": 5,
   "id": "9de87ba3",
   "metadata": {},
   "outputs": [
    {
     "name": "stdout",
     "output_type": "stream",
     "text": [
      "0\n",
      "1\n",
      "2\n",
      "3\n",
      "4\n",
      "5\n",
      "6\n",
      "7\n",
      "8\n",
      "9\n"
     ]
    }
   ],
   "source": [
    "for i in range(10):\n",
    "    print(i)"
   ]
  },
  {
   "cell_type": "markdown",
   "id": "db651bae",
   "metadata": {},
   "source": [
    "#### 2. For Loop with List\n",
    "A for loop can be used to iterate over a list and access each element."
   ]
  },
  {
   "cell_type": "code",
   "execution_count": 11,
   "id": "f9705b30",
   "metadata": {},
   "outputs": [
    {
     "name": "stdout",
     "output_type": "stream",
     "text": [
      "apple\n",
      "orange\n",
      "lemons\n",
      "mango\n",
      "--------\n",
      "accessing element apple\n"
     ]
    }
   ],
   "source": [
    "my_list=['apple','orange','lemons','mango']\n",
    "for i in my_list:\n",
    "    print(i)\n",
    "print('--------')\n",
    "# accessing element through indexing \n",
    "print(\"accessing element\",my_list[0])    "
   ]
  },
  {
   "cell_type": "markdown",
   "id": "2d73fc7f",
   "metadata": {},
   "source": [
    "#### 3.For Loop with Dictionary\n",
    "A for loop can be used to iterate over a dictionary and access each key-value pair."
   ]
  },
  {
   "cell_type": "code",
   "execution_count": 12,
   "id": "12b05c51",
   "metadata": {},
   "outputs": [
    {
     "name": "stdout",
     "output_type": "stream",
     "text": [
      "name: John\n",
      "age: 30\n",
      "city: New York\n"
     ]
    }
   ],
   "source": [
    "person = {'name': 'John', 'age': 30, 'city': 'New York'}\n",
    "for key, value in person.items():\n",
    "    print(f\"{key}: {value}\")"
   ]
  },
  {
   "cell_type": "markdown",
   "id": "e5ed665b",
   "metadata": {},
   "source": [
    "#### 4.For Loop with String\n",
    "A for loop can be used to iterate over a string and access each character."
   ]
  },
  {
   "cell_type": "code",
   "execution_count": 13,
   "id": "4623a407",
   "metadata": {},
   "outputs": [
    {
     "name": "stdout",
     "output_type": "stream",
     "text": [
      "P\n",
      "a\n",
      "k\n",
      "i\n",
      "s\n",
      "t\n",
      "a\n",
      "n\n"
     ]
    }
   ],
   "source": [
    "string_capital='Pakistan'\n",
    "for i in string_capital:\n",
    "    print(i)"
   ]
  },
  {
   "cell_type": "markdown",
   "id": "52b0a1be",
   "metadata": {},
   "source": [
    "#### 5.Enumerate Function\n",
    "The enumerate function can be used to iterate over a sequence and access both the index and the value."
   ]
  },
  {
   "cell_type": "code",
   "execution_count": 15,
   "id": "5998d016",
   "metadata": {},
   "outputs": [
    {
     "name": "stdout",
     "output_type": "stream",
     "text": [
      "0: apple\n",
      "1: banana\n",
      "2: cherry\n"
     ]
    }
   ],
   "source": [
    "fruits = ['apple', 'banana', 'cherry']\n",
    "for i, fruit in enumerate(fruits):\n",
    "    print(f\"{i}: {fruit}\")"
   ]
  },
  {
   "cell_type": "markdown",
   "id": "63c4dd79",
   "metadata": {},
   "source": [
    "## While Loops in python\n",
    "While loops in Python are used to execute a block of code repeatedly as long as a certain condition is met."
   ]
  },
  {
   "cell_type": "code",
   "execution_count": 16,
   "id": "4830a369",
   "metadata": {},
   "outputs": [
    {
     "name": "stdout",
     "output_type": "stream",
     "text": [
      "1\n",
      "2\n",
      "3\n",
      "4\n",
      "5\n"
     ]
    }
   ],
   "source": [
    "i = 1\n",
    "while i <= 5:\n",
    "    print(i)\n",
    "    i += 1"
   ]
  },
  {
   "cell_type": "markdown",
   "id": "77cb659c",
   "metadata": {},
   "source": [
    "- **Infinite Loop** - If the condition in a while loop is always true, the loop will run indefinitely. This is known as an infinite loop.\n",
    "- You can use the **break** statement to exit a loop prematurely.\n",
    "- You can use the continue statement to skip to the next iteration of the loop."
   ]
  },
  {
   "cell_type": "code",
   "execution_count": 17,
   "id": "4831e56e",
   "metadata": {},
   "outputs": [
    {
     "name": "stdout",
     "output_type": "stream",
     "text": [
      "You entered: 10\n"
     ]
    }
   ],
   "source": [
    "''' While Loop with User Input\n",
    "You can use a while loop to repeatedly ask the user for input until a certain condition is met.\n",
    "'''\n",
    "\n",
    "while True:\n",
    "    user_input = input(\"Enter a number: \")\n",
    "    if user_input.isdigit():\n",
    "        print(\"You entered:\", int(user_input))\n",
    "        break\n",
    "    else:\n",
    "        print(\"Invalid input. Please enter a number.\")"
   ]
  },
  {
   "cell_type": "code",
   "execution_count": null,
   "id": "ef28dba7",
   "metadata": {},
   "outputs": [],
   "source": []
  }
 ],
 "metadata": {
  "kernelspec": {
   "display_name": "Python 3",
   "language": "python",
   "name": "python3"
  },
  "language_info": {
   "codemirror_mode": {
    "name": "ipython",
    "version": 3
   },
   "file_extension": ".py",
   "mimetype": "text/x-python",
   "name": "python",
   "nbconvert_exporter": "python",
   "pygments_lexer": "ipython3",
   "version": "3.12.3"
  }
 },
 "nbformat": 4,
 "nbformat_minor": 5
}
