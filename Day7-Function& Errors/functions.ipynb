{
 "cells": [
  {
   "cell_type": "markdown",
   "id": "d936279b",
   "metadata": {},
   "source": [
    "## Functions\n",
    "A function is a block of reusable code that performs a specific task. Functions help organize code, reduce repetition, and make the code more modular and readable.\n",
    "In Python, we define a function using the def keyword.\n"
   ]
  },
  {
   "cell_type": "markdown",
   "id": "695783ad",
   "metadata": {},
   "source": [
    "### Why Use Functions?\n",
    "* To avoid repeating the same code.\n",
    "* To divide large programs into smaller, manageable parts.\n",
    "* To make programs easier to understand and maintain.\n",
    "* To reuse code in multiple places with different inputs\n",
    "\n",
    "Basic Syntax\n",
    "```\n",
    "def function_name(parameters):\n",
    "    # code block\n",
    "    return value  # optional\n",
    "\n",
    "```"
   ]
  },
  {
   "cell_type": "markdown",
   "id": "6173620e",
   "metadata": {},
   "source": [
    "## Types of Function \n",
    "![Fucntion_Concept](/Images/functions.png)\n",
    "<br>\n",
    "There are two types of functions in python \n",
    "* 1.  Built-in Functions- These are functions provided by Python itself.\n",
    "       * print() – outputs to the console\n",
    "      * len() – returns the length of an object\n",
    "      * range() – generates a sequence of numbers\n",
    "*  2. User-defined functions - Functions created by users using the def keyword.\n",
    "      *  simple fucntion without paramaeters\n",
    "      *  functions with parameters\n",
    "      *  functions with return but no parameters\n",
    "      *  functions with return and parameters"
   ]
  },
  {
   "cell_type": "markdown",
   "id": "ea357573",
   "metadata": {},
   "source": [
    "### 1.simple fucntion without paramaeters \n"
   ]
  },
  {
   "cell_type": "code",
   "execution_count": 2,
   "id": "c6bf4ff2",
   "metadata": {},
   "outputs": [
    {
     "name": "stdout",
     "output_type": "stream",
     "text": [
      "Hello, World!\n"
     ]
    }
   ],
   "source": [
    "def greet ():\n",
    "    print (\"Hello, World!\")\n",
    "\n",
    "greet ()"
   ]
  },
  {
   "cell_type": "markdown",
   "id": "d56993a7",
   "metadata": {},
   "source": [
    "### 2. Fucntions with parameters "
   ]
  },
  {
   "cell_type": "code",
   "execution_count": 3,
   "id": "17e328e2",
   "metadata": {},
   "outputs": [
    {
     "name": "stdout",
     "output_type": "stream",
     "text": [
      "Hello, Alice!\n"
     ]
    }
   ],
   "source": [
    "def greet(name):\n",
    "    print(f\"Hello, {name}!\")\n",
    "\n",
    "greet(\"Alice\")"
   ]
  },
  {
   "cell_type": "markdown",
   "id": "b81b9d07",
   "metadata": {},
   "source": [
    "#### 3.Function with Return but No Parameters"
   ]
  },
  {
   "cell_type": "code",
   "execution_count": 4,
   "id": "5dcef317",
   "metadata": {},
   "outputs": [
    {
     "name": "stdout",
     "output_type": "stream",
     "text": [
      "3.14159\n"
     ]
    }
   ],
   "source": [
    "def get_pi():\n",
    "    return 3.14159\n",
    "print(get_pi())  # Output: 3.14159"
   ]
  },
  {
   "cell_type": "markdown",
   "id": "ebcdc459",
   "metadata": {},
   "source": [
    "#### 4.Function with Parameters and Return"
   ]
  },
  {
   "cell_type": "code",
   "execution_count": 5,
   "id": "4e1021a5",
   "metadata": {},
   "outputs": [
    {
     "name": "stdout",
     "output_type": "stream",
     "text": [
      "result is  65\n"
     ]
    }
   ],
   "source": [
    "def add_sum(a,b):\n",
    "    return a+b \n",
    "\n",
    "result=add_sum(34,31)\n",
    "print(\"result is \", result)  # output: result is 0"
   ]
  },
  {
   "cell_type": "code",
   "execution_count": null,
   "id": "476eb278",
   "metadata": {},
   "outputs": [],
   "source": []
  }
 ],
 "metadata": {
  "kernelspec": {
   "display_name": "Python 3",
   "language": "python",
   "name": "python3"
  },
  "language_info": {
   "codemirror_mode": {
    "name": "ipython",
    "version": 3
   },
   "file_extension": ".py",
   "mimetype": "text/x-python",
   "name": "python",
   "nbconvert_exporter": "python",
   "pygments_lexer": "ipython3",
   "version": "3.12.3"
  }
 },
 "nbformat": 4,
 "nbformat_minor": 5
}
