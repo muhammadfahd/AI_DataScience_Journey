{
 "cells": [
  {
   "cell_type": "markdown",
   "id": "f6a1a213",
   "metadata": {},
   "source": [
    "# Numpy(part2)\n",
    "\n",
    "Earlier , we used the numpy library to understand its basics in  \n",
    "* [Day 28 Numpy (part 1)](./Day28-Numpy(part1).ipynb)\n",
    "* [Check out Numpy Library](https://pypi.org/project/numpy/)"
   ]
  },
  {
   "cell_type": "markdown",
   "id": "d5a4893f",
   "metadata": {},
   "source": [
    "* [Importing the library](#importing-the-library)\n",
    "* [Creating Array ](#creating-array)\n",
    "* [Type of Array ](#types-of-array)\n",
    "* [One Dimension Array](#1d-array)\n",
    "* [Concatenation](#concatenation)\n",
    "* [Indexing & Slicing](#indexing-and-slcing)"
   ]
  },
  {
   "cell_type": "markdown",
   "id": "1439e25d",
   "metadata": {},
   "source": [
    "## importing the library"
   ]
  },
  {
   "cell_type": "code",
   "execution_count": 2,
   "id": "1c2ccab5",
   "metadata": {},
   "outputs": [],
   "source": [
    "import numpy as np"
   ]
  },
  {
   "cell_type": "markdown",
   "id": "d6f6327c",
   "metadata": {},
   "source": [
    "## Creating Array \n",
    "we can use different methods to create an array in Python. For instance,\n",
    "* empty array with\n",
    "* array using range\n",
    "* arange function\n",
    "* linspace function"
   ]
  },
  {
   "cell_type": "code",
   "execution_count": 3,
   "id": "bdfeac98",
   "metadata": {},
   "outputs": [
    {
     "name": "stdout",
     "output_type": "stream",
     "text": [
      "[[3.33772792e-307 4.22786102e-307 2.78145267e-307]\n",
      " [4.00537061e-307 2.23419104e-317 0.00000000e+000]]\n"
     ]
    }
   ],
   "source": [
    "#empty array with two elements\n",
    "empty=np.empty((2,3))\n",
    "print(empty)"
   ]
  },
  {
   "cell_type": "code",
   "execution_count": 4,
   "id": "c6f1f53e",
   "metadata": {},
   "outputs": [
    {
     "name": "stdout",
     "output_type": "stream",
     "text": [
      "[0 1 2 3 4 5 6 7]\n"
     ]
    }
   ],
   "source": [
    "# making array using a range\n",
    "x=np.arange(8)   # end range \n",
    "print(x)  # prints [0 1 2 3 4 5 6 7]"
   ]
  },
  {
   "cell_type": "code",
   "execution_count": 5,
   "id": "d9668071",
   "metadata": {},
   "outputs": [
    {
     "name": "stdout",
     "output_type": "stream",
     "text": [
      "[2 4 6 8]\n"
     ]
    }
   ],
   "source": [
    "y=np.arange(2,10,2)  # starting from 2 end with 10 with step 2\n",
    "print(y)"
   ]
  },
  {
   "cell_type": "code",
   "execution_count": 6,
   "id": "cb81713b",
   "metadata": {},
   "outputs": [
    {
     "name": "stdout",
     "output_type": "stream",
     "text": [
      "[ 0 10 20 30 40 50 60 70 80 90]\n"
     ]
    }
   ],
   "source": [
    "# specific difference between start and end\n",
    "numbers=np.arange(0,100,10)\n",
    "print(numbers)"
   ]
  },
  {
   "cell_type": "markdown",
   "id": "721bfa22",
   "metadata": {},
   "source": [
    "linspace function \n",
    "create equally spaced number from defined raneg\n",
    "\n"
   ]
  },
  {
   "cell_type": "code",
   "execution_count": 7,
   "id": "232c5ee7",
   "metadata": {},
   "outputs": [
    {
     "name": "stdout",
     "output_type": "stream",
     "text": [
      "[0.   0.25 0.5  0.75 1.  ]\n"
     ]
    }
   ],
   "source": [
    "lin=np.linspace(0,1,5)  #(numbers from 0-1 with 5 elements euqally spaced)\n",
    "print(lin)"
   ]
  },
  {
   "cell_type": "code",
   "execution_count": 8,
   "id": "44b3f73d",
   "metadata": {},
   "outputs": [
    {
     "name": "stdout",
     "output_type": "stream",
     "text": [
      "[0.         0.01010101 0.02020202 0.03030303 0.04040404 0.05050505\n",
      " 0.06060606 0.07070707 0.08080808 0.09090909 0.1010101  0.11111111\n",
      " 0.12121212 0.13131313 0.14141414 0.15151515 0.16161616 0.17171717\n",
      " 0.18181818 0.19191919 0.2020202  0.21212121 0.22222222 0.23232323\n",
      " 0.24242424 0.25252525 0.26262626 0.27272727 0.28282828 0.29292929\n",
      " 0.3030303  0.31313131 0.32323232 0.33333333 0.34343434 0.35353535\n",
      " 0.36363636 0.37373737 0.38383838 0.39393939 0.4040404  0.41414141\n",
      " 0.42424242 0.43434343 0.44444444 0.45454545 0.46464646 0.47474747\n",
      " 0.48484848 0.49494949 0.50505051 0.51515152 0.52525253 0.53535354\n",
      " 0.54545455 0.55555556 0.56565657 0.57575758 0.58585859 0.5959596\n",
      " 0.60606061 0.61616162 0.62626263 0.63636364 0.64646465 0.65656566\n",
      " 0.66666667 0.67676768 0.68686869 0.6969697  0.70707071 0.71717172\n",
      " 0.72727273 0.73737374 0.74747475 0.75757576 0.76767677 0.77777778\n",
      " 0.78787879 0.7979798  0.80808081 0.81818182 0.82828283 0.83838384\n",
      " 0.84848485 0.85858586 0.86868687 0.87878788 0.88888889 0.8989899\n",
      " 0.90909091 0.91919192 0.92929293 0.93939394 0.94949495 0.95959596\n",
      " 0.96969697 0.97979798 0.98989899 1.        ]\n"
     ]
    }
   ],
   "source": [
    "lin=np.linspace(0,1,num=100)   # (numbers from 0-1 with 100 elements euqally spaced)\n",
    "print(lin)"
   ]
  },
  {
   "cell_type": "markdown",
   "id": "521e27e6",
   "metadata": {},
   "source": [
    "## Types of Array"
   ]
  },
  {
   "cell_type": "code",
   "execution_count": 9,
   "id": "2e1121c6",
   "metadata": {},
   "outputs": [
    {
     "name": "stdout",
     "output_type": "stream",
     "text": [
      "[1 1]\n"
     ]
    }
   ],
   "source": [
    "# defin ethe data type of array\n",
    "x=np.ones(2,dtype=int)\n",
    "print(x)"
   ]
  },
  {
   "cell_type": "markdown",
   "id": "3cb09e2a",
   "metadata": {},
   "source": [
    "## 1D Array \n",
    "* 1D array: A one-dimensional array is a collection of elements of the same data type stored in contiguous memory\n"
   ]
  },
  {
   "cell_type": "code",
   "execution_count": 10,
   "id": "06844dc4",
   "metadata": {},
   "outputs": [
    {
     "name": "stdout",
     "output_type": "stream",
     "text": [
      "[1. 1.]\n"
     ]
    }
   ],
   "source": [
    "x=np.ones(2,dtype=float)\n",
    "print(x)"
   ]
  },
  {
   "cell_type": "code",
   "execution_count": 11,
   "id": "11dfdd41",
   "metadata": {},
   "outputs": [
    {
     "name": "stdout",
     "output_type": "stream",
     "text": [
      "[0. 1. 2. 3. 4. 5. 6. 7. 8. 9.]\n"
     ]
    }
   ],
   "source": [
    "x=np.arange(10,dtype=float)\n",
    "print(x)"
   ]
  },
  {
   "cell_type": "markdown",
   "id": "680acb99",
   "metadata": {},
   "source": [
    "In NumPy, the numbers in the dtype (data type) refer to the number of bits used to represent the value. Here's a brief overview of the differences:\n",
    "\n",
    "**Integers**:\n",
    "\n",
    "- int32: 32-bit signed integer, ranging from -2,147,483,648 to 2,147,483,647.\n",
    "- int64: 64-bit signed integer, ranging from -9,223,372,036,854,775,808 to 9,223,372,036,854,775,807.\n",
    "\n",
    "The main difference between int32 and int64 is the range of values they can represent. int64 can handle much larger numbers, but it also uses more memory.\n",
    "\n",
    "\n",
    "**Floating-point numbers**:\n",
    "\n",
    "- float16: 16-bit floating-point number, with a limited range and precision. It's often used for storage or transmission, rather than computation.\n",
    "- float32: 32-bit floating-point number, commonly used for scientific computing and graphics. It provides a good balance between precision and memory usage.\n",
    "- float64: 64-bit floating-point number, offering high precision and a wide range of values. It's often used for demanding numerical computations."
   ]
  },
  {
   "cell_type": "code",
   "execution_count": 12,
   "id": "cfad7980",
   "metadata": {},
   "outputs": [
    {
     "name": "stdout",
     "output_type": "stream",
     "text": [
      "[2 1 4 3 5]\n",
      "prinitng sorted array [1 2 3 4 5]\n"
     ]
    }
   ],
   "source": [
    "# sorting an array \n",
    "x=np.array([2,1,4,3,5])\n",
    "print(x)\n",
    "print(\"prinitng sorted array\",np.sort(x))"
   ]
  },
  {
   "cell_type": "markdown",
   "id": "65fdd1d2",
   "metadata": {},
   "source": [
    "there are also other ways to sort like argsort,lexsort"
   ]
  },
  {
   "cell_type": "markdown",
   "id": "29e4f7df",
   "metadata": {},
   "source": [
    "## Concatenation "
   ]
  },
  {
   "cell_type": "markdown",
   "id": "70d1337a",
   "metadata": {},
   "source": [
    "Concatenation \n"
   ]
  },
  {
   "cell_type": "code",
   "execution_count": 13,
   "id": "6c7fb59c",
   "metadata": {},
   "outputs": [
    {
     "name": "stdout",
     "output_type": "stream",
     "text": [
      "[1 2 3 4 5 6]\n"
     ]
    }
   ],
   "source": [
    "# example of concatenation\n",
    "a=np.array([1,2,3])\n",
    "b=np.array([4,5,6])\n",
    "c=np.concatenate((a,b))\n",
    "print(c)  # prints [1 2 3 4 5 6]"
   ]
  },
  {
   "cell_type": "markdown",
   "id": "f143eab4",
   "metadata": {},
   "source": [
    "conatenation of 2D array \n",
    "- like couple holding hands"
   ]
  },
  {
   "cell_type": "code",
   "execution_count": 14,
   "id": "7dbebf7b",
   "metadata": {},
   "outputs": [
    {
     "name": "stdout",
     "output_type": "stream",
     "text": [
      "printing a [[1 2 3]\n",
      " [4 5 6]]\n",
      "printing b [[ 7  8  9]\n",
      " [10 11 12]]\n",
      "after concatenation  [[ 1  2  3]\n",
      " [ 4  5  6]\n",
      " [ 7  8  9]\n",
      " [10 11 12]]\n"
     ]
    }
   ],
   "source": [
    "# 2d array concatenation\n",
    "a=np.array([[1,2,3],[4,5,6]])\n",
    "b=np.array([[7,8,9],[10,11,12]])\n",
    "print(\"printing a\",a)\n",
    "print(\"printing b\",b)\n",
    "\n",
    "c=np.concatenate((a,b))\n",
    "print(\"after concatenation \", c)"
   ]
  },
  {
   "cell_type": "markdown",
   "id": "5398be34",
   "metadata": {},
   "source": [
    "we can also work on 3d arrays\n",
    "\n"
   ]
  },
  {
   "cell_type": "markdown",
   "id": "2308554a",
   "metadata": {},
   "source": [
    "## Indexing and slcing \n",
    "Indexing is a way to access a subset of the elements in a list. You can use square brackets `[]` to specify the index or a slice of the list. A slice is a subset of the list specified by a range of indices."
   ]
  },
  {
   "cell_type": "code",
   "execution_count": 17,
   "id": "1389a32a",
   "metadata": {},
   "outputs": [
    {
     "data": {
      "text/plain": [
       "array([1, 2, 3, 4, 5, 6])"
      ]
     },
     "execution_count": 17,
     "metadata": {},
     "output_type": "execute_result"
    }
   ],
   "source": [
    "a=np.array([1,2,3,4,5,6])\n",
    "a\n"
   ]
  },
  {
   "cell_type": "code",
   "execution_count": 18,
   "id": "8504f1e9",
   "metadata": {},
   "outputs": [
    {
     "data": {
      "text/plain": [
       "3"
      ]
     },
     "execution_count": 18,
     "metadata": {},
     "output_type": "execute_result"
    }
   ],
   "source": [
    "# accessing element \n",
    "a[2]\n"
   ]
  },
  {
   "cell_type": "code",
   "execution_count": 20,
   "id": "4904de0e",
   "metadata": {},
   "outputs": [
    {
     "data": {
      "text/plain": [
       "array([3, 4, 5, 6])"
      ]
     },
     "execution_count": 20,
     "metadata": {},
     "output_type": "execute_result"
    }
   ],
   "source": [
    "a [2:]"
   ]
  },
  {
   "cell_type": "code",
   "execution_count": 21,
   "id": "1567a18b",
   "metadata": {},
   "outputs": [
    {
     "data": {
      "text/plain": [
       "6"
      ]
     },
     "execution_count": 21,
     "metadata": {},
     "output_type": "execute_result"
    }
   ],
   "source": [
    "a[-1]"
   ]
  }
 ],
 "metadata": {
  "kernelspec": {
   "display_name": "Python 3",
   "language": "python",
   "name": "python3"
  },
  "language_info": {
   "codemirror_mode": {
    "name": "ipython",
    "version": 3
   },
   "file_extension": ".py",
   "mimetype": "text/x-python",
   "name": "python",
   "nbconvert_exporter": "python",
   "pygments_lexer": "ipython3",
   "version": "3.12.3"
  }
 },
 "nbformat": 4,
 "nbformat_minor": 5
}
