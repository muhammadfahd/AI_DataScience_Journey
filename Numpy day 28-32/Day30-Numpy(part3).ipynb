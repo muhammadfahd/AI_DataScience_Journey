{
 "cells": [
  {
   "cell_type": "markdown",
   "id": "e4f800c6",
   "metadata": {},
   "source": [
    "# Numpy(part2)\n",
    "\n",
    "Earlier , we used the numpy library to understand its basics in  \n",
    "* [Day 28 Numpy (part 1)](./Day28-Numpy(part1).ipynb)\n",
    "* [Day 29 Numpy  (part2)](./Day29-Numpy(part2).ipynb)\n",
    "* [Check out Numpy Library](https://pypi.org/project/numpy/)"
   ]
  },
  {
   "cell_type": "code",
   "execution_count": 8,
   "id": "c79fcfe9",
   "metadata": {},
   "outputs": [],
   "source": [
    "import numpy as np"
   ]
  },
  {
   "cell_type": "markdown",
   "id": "1ebe5b32",
   "metadata": {},
   "source": [
    "## Array Indexing & Slicing\n",
    "\n",
    "* [Array Indexing](#array-indexing)\n",
    "    * [1D Array Indexing](#1d-array-indexing)\n",
    "    * [2D Array Indexing](#2d-array-indexing)\n",
    "* [Array Slicing](#slicing-the-array)\n",
    "    * [1D Array Slicing](#1d-array-slicing)\n",
    "    * [2D Array Slicing](#2d-array-slicing)"
   ]
  },
  {
   "cell_type": "markdown",
   "id": "4a12f092",
   "metadata": {},
   "source": [
    "# Array Indexing \n",
    "In NumPy, array indexing is used to access specific elements or groups of elements in an array. Indexing is 0-based, meaning that the first element is at index 0.\n",
    "\n"
   ]
  },
  {
   "cell_type": "markdown",
   "id": "bb322d29",
   "metadata": {},
   "source": [
    "##  1D Array indexing  \n",
    "- Accessing elements in a 1D array is straightforward.\n",
    "- You can access an element at a specific index using the index value.\n",
    "- For example, if you have a 1D array `arr` and you want to access the element at index 3, you can use `arr[3]`.\n",
    "- Note that array indices in Python start at 0, so the first element in a 1D array is at index 0.\n",
    "- You can also use negative indices to access elements from the end of the array.\n",
    "- For example, `arr[-1]` will give you the last element in the\n",
    "   array."
   ]
  },
  {
   "cell_type": "code",
   "execution_count": 10,
   "id": "63009971",
   "metadata": {},
   "outputs": [
    {
     "name": "stdout",
     "output_type": "stream",
     "text": [
      "[1 2 3 4 5]\n"
     ]
    }
   ],
   "source": [
    "arr=np.array([1,2,3,4,5])\n",
    "print(arr)"
   ]
  },
  {
   "cell_type": "code",
   "execution_count": 11,
   "id": "8f082827",
   "metadata": {},
   "outputs": [
    {
     "name": "stdout",
     "output_type": "stream",
     "text": [
      "1\n",
      "2\n",
      "5\n"
     ]
    }
   ],
   "source": [
    "\n",
    "print(arr[0])  # Output: 1\n",
    "print(arr[1])  # Output: 2\n",
    "print(arr[-1])  # Output: 5 (negative indexing starts from the end)\n"
   ]
  },
  {
   "cell_type": "markdown",
   "id": "60b0ca32",
   "metadata": {},
   "source": [
    "In this example, arr[0] accesses the first element, arr[1] accesses the second element, and arr[-1] accesses the last element.\n"
   ]
  },
  {
   "cell_type": "markdown",
   "id": "155fe8cd",
   "metadata": {},
   "source": [
    "## 2D Array Indexing\n",
    "In a 2D array, each element is identified by a pair of indices.you need to specify the row and column indices:\n"
   ]
  },
  {
   "cell_type": "code",
   "execution_count": 12,
   "id": "7a65697f",
   "metadata": {},
   "outputs": [
    {
     "name": "stdout",
     "output_type": "stream",
     "text": [
      "1\n",
      "2\n",
      "6\n"
     ]
    }
   ],
   "source": [
    "arr = np.array([[1, 2, 3], [4, 5, 6]])\n",
    "\n",
    "print(arr[0, 0])  # Output: 1\n",
    "print(arr[0, 1])  # Output: 2\n",
    "print(arr[1, 2])  # Output: 6\n"
   ]
  },
  {
   "cell_type": "markdown",
   "id": "a23d554c",
   "metadata": {},
   "source": [
    "In this example, arr[0, 0] accesses the element at row 0, column 0, and arr[1, 2] accesses the element at row 1, column 2.\n"
   ]
  },
  {
   "cell_type": "markdown",
   "id": "b457aa8f",
   "metadata": {},
   "source": [
    "## Slicing the array\n",
    "Slicing is a technique used to extract a subset of elements from a sequence, such as a string, list, or array. It allows you to access a range of elements by specifying the start and end indices.\n",
    "\n"
   ]
  },
  {
   "cell_type": "markdown",
   "id": "5f68a04c",
   "metadata": {},
   "source": [
    "**Slicing Syntax**\n",
    "\n",
    "The general syntax for slicing is:\n",
    "\n",
    "sequence[start:stop:step]\n",
    "\n",
    "Where:\n",
    "\n",
    "- start: The starting index of the slice (inclusive).\n",
    "- stop: The ending index of the slice (exclusive).\n",
    "- step: The increment between elements in the slice (default is 1).\n"
   ]
  },
  {
   "cell_type": "markdown",
   "id": "36b52be1",
   "metadata": {},
   "source": [
    "## 1D Array Slicing\n",
    "In Python, you can use the following syntax to slice a 1D array:\n"
   ]
  },
  {
   "cell_type": "code",
   "execution_count": 13,
   "id": "228e75c1",
   "metadata": {},
   "outputs": [
    {
     "name": "stdout",
     "output_type": "stream",
     "text": [
      "[2 3]\n",
      "[1 2 3]\n",
      "[3 4 5]\n",
      "[1 2 3 4 5]\n"
     ]
    }
   ],
   "source": [
    "arr = np.array([1, 2, 3, 4, 5])\n",
    "\n",
    "print(arr[1:3])  # Output: [2, 3]\n",
    "print(arr[:3])  # Output: [1, 2, 3]\n",
    "print(arr[2:])  # Output: [3, 4, 5]\n",
    "print(arr[:])  # Output: [1, 2, 3, 4, 5]\n",
    "\n"
   ]
  },
  {
   "cell_type": "markdown",
   "id": "3ad2c617",
   "metadata": {},
   "source": [
    "In anbove example:\n",
    "\n",
    "- arr[1:3] extracts elements from index 1 to 2 (stop index is exclusive).\n",
    "- arr[:3] extracts elements from the start to index 2.\n",
    "- arr[2:] extracts elements from index 2 to the end.\n",
    "- arr[:] extracts all elements.\n"
   ]
  },
  {
   "cell_type": "markdown",
   "id": "c9ee0bc5",
   "metadata": {},
   "source": [
    "## 2D Array Slicing\n",
    "For 2D arrays, you can slice rows and columns separately:\n"
   ]
  },
  {
   "cell_type": "code",
   "execution_count": 14,
   "id": "82fbdbc8",
   "metadata": {},
   "outputs": [
    {
     "name": "stdout",
     "output_type": "stream",
     "text": [
      "[[5 6]\n",
      " [8 9]]\n",
      "[2 5 8]\n",
      "[4 5 6]\n"
     ]
    }
   ],
   "source": [
    "arr = np.array([[1, 2, 3], [4, 5, 6], [7, 8, 9]])\n",
    "\n",
    "print(arr[1:, 1:])  # Output: [[5, 6], [8, 9]]\n",
    "print(arr[:, 1])  # Output: [2, 5, 8]\n",
    "print(arr[1, :])  # Output: [4, 5, 6]\n"
   ]
  },
  {
   "cell_type": "markdown",
   "id": "d1153d18",
   "metadata": {},
   "source": [
    "- arr[1:, 1:] extracts rows from index 1 to the end and columns from index 1 to the end.\n",
    "- arr[:, 1] extracts the second column.\n",
    "- arr[1, :] extracts the second row.\n"
   ]
  },
  {
   "cell_type": "markdown",
   "id": "1847a704",
   "metadata": {},
   "source": []
  }
 ],
 "metadata": {
  "kernelspec": {
   "display_name": "Python 3",
   "language": "python",
   "name": "python3"
  },
  "language_info": {
   "codemirror_mode": {
    "name": "ipython",
    "version": 3
   },
   "file_extension": ".py",
   "mimetype": "text/x-python",
   "name": "python",
   "nbconvert_exporter": "python",
   "pygments_lexer": "ipython3",
   "version": "3.12.3"
  }
 },
 "nbformat": 4,
 "nbformat_minor": 5
}
