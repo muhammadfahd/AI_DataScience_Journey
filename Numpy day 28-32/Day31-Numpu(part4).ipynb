{
 "cells": [
  {
   "cell_type": "markdown",
   "id": "ca90a1e4",
   "metadata": {},
   "source": [
    "# Numpy(part2)\n",
    "\n",
    "Earlier , we used the numpy library to understand its basics in  \n",
    "* [Day 28 Numpy (part 1)](./Day28-Numpy(part1).ipynb)\n",
    "* [Day 29 Numpy  (part2)](./Day29-Numpy(part2).ipynb)\n",
    "* [Day 30 Numpy (part3)](Day30-Numpy(part3).ipynb)\n",
    "----\n",
    "* [Check out Numpy Library](https://pypi.org/project/numpy/)"
   ]
  },
  {
   "cell_type": "markdown",
   "id": "977198c6",
   "metadata": {},
   "source": [
    "**Table of Content** \n",
    "\n",
    "* [Creating Arrays from Data](#creating-arrays-from-data)\n",
    "* [Creating Arrays with specific Data Types](#creating-arrays-with-specific-data-types)\n",
    "* [Creating Array with Specific Shapes](#creating-arrays-with-specific-shapes)\n",
    "* [Creating Arrays with Zeros, Ones, or Random values](#creating-arrays-with-zeros-ones-or-random-values)\n"
   ]
  },
  {
   "cell_type": "code",
   "execution_count": 2,
   "id": "a7446cfb",
   "metadata": {},
   "outputs": [],
   "source": [
    "import numpy as np"
   ]
  },
  {
   "cell_type": "markdown",
   "id": "e07f1d33",
   "metadata": {},
   "source": [
    "## Creating Arrays from Data\n",
    "You can create a NumPy array from various types of data, such as:\n",
    "\n",
    "- Lists: You can pass a list to the np.array() function to create an array.\n",
    "- Tuples: Similar to lists, you can pass a tuple to the np.array() function.\n",
    "- Other Arrays: You can create a new array from an existing array.\n"
   ]
  },
  {
   "cell_type": "code",
   "execution_count": 3,
   "id": "56872748",
   "metadata": {},
   "outputs": [
    {
     "name": "stdout",
     "output_type": "stream",
     "text": [
      "[ 1 23  4  6 78]\n"
     ]
    }
   ],
   "source": [
    "# creating array from a list \n",
    "my_list=[1,23,4,6,78]\n",
    "arr=np.array(my_list)\n",
    "print(arr)"
   ]
  },
  {
   "cell_type": "code",
   "execution_count": 4,
   "id": "d5f327d1",
   "metadata": {},
   "outputs": [
    {
     "name": "stdout",
     "output_type": "stream",
     "text": [
      "[1 2 3 4 5]\n"
     ]
    }
   ],
   "source": [
    "# creating array from a tuple\n",
    "tuple1 = (1, 2, 3, 4, 5)\n",
    "array1 = np.array(tuple1)\n",
    "print(array1)"
   ]
  },
  {
   "cell_type": "code",
   "execution_count": 5,
   "id": "96cb4374",
   "metadata": {},
   "outputs": [
    {
     "name": "stdout",
     "output_type": "stream",
     "text": [
      "[1 2 3]\n"
     ]
    }
   ],
   "source": [
    "# creating an array from another array\n",
    "arr1 = np.array([1, 2, 3])\n",
    "arr2 = np.array(arr1)\n",
    "print(arr2)  # [1 2 3]\n"
   ]
  },
  {
   "cell_type": "markdown",
   "id": "38262988",
   "metadata": {},
   "source": [
    "## Creating Arrays with Specific Data Types\n",
    "You can specify the data type of the array elements using the dtype parameter:\n",
    "\n",
    "\n"
   ]
  },
  {
   "cell_type": "code",
   "execution_count": 6,
   "id": "2a64442c",
   "metadata": {},
   "outputs": [
    {
     "name": "stdout",
     "output_type": "stream",
     "text": [
      "int32\n"
     ]
    }
   ],
   "source": [
    "# Create an array with integer data type\n",
    "arr = np.array([1, 2, 3], dtype='int32')\n",
    "print(arr.dtype)  # int32\n"
   ]
  },
  {
   "cell_type": "code",
   "execution_count": 7,
   "id": "a47da21c",
   "metadata": {},
   "outputs": [
    {
     "name": "stdout",
     "output_type": "stream",
     "text": [
      "float64\n"
     ]
    }
   ],
   "source": [
    "# Create an array with float data type\n",
    "arr = np.array([1, 2, 3], dtype='float64')\n",
    "print(arr.dtype)  # float64\n"
   ]
  },
  {
   "cell_type": "markdown",
   "id": "594133ad",
   "metadata": {},
   "source": [
    "## Creating Arrays with Specific Shapes\n",
    "\n",
    "You can create arrays with specific shapes using the reshape() function:\n"
   ]
  },
  {
   "cell_type": "code",
   "execution_count": 8,
   "id": "e57550a9",
   "metadata": {},
   "outputs": [
    {
     "name": "stdout",
     "output_type": "stream",
     "text": [
      "[[1 2 3]\n",
      " [4 5 6]]\n"
     ]
    }
   ],
   "source": [
    "arr = np.array([1, 2, 3, 4, 5, 6])\n",
    "\n",
    "# Reshape the array to 2D\n",
    "arr = arr.reshape(2, 3)\n",
    "print(arr)\n",
    "# [[1 2 3]\n",
    "#  [4 5 6]]\n",
    "\n"
   ]
  },
  {
   "cell_type": "markdown",
   "id": "a20540eb",
   "metadata": {},
   "source": [
    "## Creating Arrays with Zeros, Ones, or Random Values\n",
    "You can create arrays filled with zeros, ones, or random values using the following functions:\n",
    "\n",
    "- np.zeros(): Create an array filled with zeros.\n",
    "- np.ones(): Create an array filled with ones.\n",
    "- np.random.rand(): Create an array filled with random values.\n",
    "\n"
   ]
  },
  {
   "cell_type": "code",
   "execution_count": 9,
   "id": "3a712a29",
   "metadata": {},
   "outputs": [
    {
     "name": "stdout",
     "output_type": "stream",
     "text": [
      "[[0. 0. 0.]\n",
      " [0. 0. 0.]\n",
      " [0. 0. 0.]]\n"
     ]
    }
   ],
   "source": [
    "# Create an array filled with zeros\n",
    "arr = np.zeros((3, 3))\n",
    "print(arr)\n",
    "# [[0. 0. 0.]\n",
    "#  [0. 0. 0.]\n",
    "#  [0. 0. 0.]]\n",
    "\n"
   ]
  },
  {
   "cell_type": "code",
   "execution_count": 10,
   "id": "3db79e70",
   "metadata": {},
   "outputs": [
    {
     "name": "stdout",
     "output_type": "stream",
     "text": [
      "[[1. 1. 1.]\n",
      " [1. 1. 1.]\n",
      " [1. 1. 1.]]\n"
     ]
    }
   ],
   "source": [
    "# Create an array filled with ones\n",
    "arr = np.ones((3, 3))\n",
    "print(arr)\n",
    "# [[1. 1. 1.]\n",
    "#  [1. 1. 1.]\n",
    "#  [1. 1. 1.]]\n"
   ]
  },
  {
   "cell_type": "code",
   "execution_count": 11,
   "id": "dff02efc",
   "metadata": {},
   "outputs": [
    {
     "name": "stdout",
     "output_type": "stream",
     "text": [
      "[[0.96588574 0.79313076 0.81053198]\n",
      " [0.71947211 0.91696421 0.96204357]\n",
      " [0.17600542 0.53525243 0.86830321]]\n"
     ]
    }
   ],
   "source": [
    "\n",
    "# Create an array filled with random values\n",
    "arr = np.random.rand(3, 3)\n",
    "print(arr)\n",
    "# [[ random values ]]\n"
   ]
  },
  {
   "cell_type": "code",
   "execution_count": null,
   "id": "8cc98b05",
   "metadata": {},
   "outputs": [],
   "source": []
  }
 ],
 "metadata": {
  "kernelspec": {
   "display_name": "Python 3",
   "language": "python",
   "name": "python3"
  },
  "language_info": {
   "codemirror_mode": {
    "name": "ipython",
    "version": 3
   },
   "file_extension": ".py",
   "mimetype": "text/x-python",
   "name": "python",
   "nbconvert_exporter": "python",
   "pygments_lexer": "ipython3",
   "version": "3.12.3"
  }
 },
 "nbformat": 4,
 "nbformat_minor": 5
}
